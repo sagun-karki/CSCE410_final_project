{
 "cells": [
  {
   "cell_type": "code",
   "execution_count": 1,
   "id": "7e98bed0",
   "metadata": {},
   "outputs": [],
   "source": [
    "# import faiss\n",
    "import sys\n",
    "sys.path.append('..')\n",
    "import math\n",
    "\n",
    "import pandas as pd\n",
    "from sentence_transformers import SentenceTransformer, util\n",
    "from sklearn.metrics.pairwise import cosine_similarity\n",
    "\n",
    "import os\n",
    "# initialize tfidf\n",
    "from sklearn.feature_extraction.text import TfidfVectorizer\n",
    "tfidf_vectorizer = TfidfVectorizer()\n",
    "from sklearn.decomposition import TruncatedSVD\n",
    "\n",
    "\n",
    "# ================================\n",
    "# Initialization\n",
    "# ================================\n",
    "\n",
    "model = SentenceTransformer(\"all-MiniLM-L6-v2\")"
   ]
  },
  {
   "cell_type": "code",
   "execution_count": 2,
   "id": "3c5a7626",
   "metadata": {},
   "outputs": [],
   "source": [
    "df = pd.read_csv(\"../data/questions.csv\")\n"
   ]
  },
  {
   "cell_type": "code",
   "execution_count": 3,
   "id": "99ec4bed",
   "metadata": {},
   "outputs": [
    {
     "data": {
      "text/plain": [
       "array(['University_of_Notre_Dame', 'Beyoncé', 'Montana', 'Genocide',\n",
       "       'Antibiotics', 'Frédéric_Chopin',\n",
       "       'Sino-Tibetan_relations_during_the_Ming_dynasty', 'IPod',\n",
       "       'The_Legend_of_Zelda:_Twilight_Princess', 'Spectre_(2015_film)',\n",
       "       '2008_Sichuan_earthquake', 'New_York_City',\n",
       "       'To_Kill_a_Mockingbird', 'Solar_energy', 'Tajikistan',\n",
       "       'Anthropology', 'Portugal', 'Kanye_West', 'Buddhism',\n",
       "       'American_Idol', 'Dog', '2008_Summer_Olympics_torch_relay',\n",
       "       'Alfred_North_Whitehead', 'Financial_crisis_of_2007%E2%80%9308',\n",
       "       'Saint_Barth%C3%A9lemy', 'Genome', 'Comprehensive_school',\n",
       "       'Republic_of_the_Congo', 'Prime_minister',\n",
       "       'Institute_of_technology', 'Wayback_Machine', 'Dutch_Republic',\n",
       "       'Symbiosis', 'Canadian_Armed_Forces', 'Cardinal_(Catholicism)',\n",
       "       'Iranian_languages', 'Lighting',\n",
       "       'Separation_of_powers_under_the_United_States_Constitution',\n",
       "       'Architecture', 'Human_Development_Index', 'Southern_Europe',\n",
       "       'BBC_Television', 'Arnold_Schwarzenegger', 'Plymouth', 'Heresy',\n",
       "       'Warsaw_Pact', 'Materialism', 'Space_Race', 'Pub', 'Christian',\n",
       "       'Sony_Music_Entertainment', 'Oklahoma_City', 'Hunter-gatherer',\n",
       "       'United_Nations_Population_Fund',\n",
       "       'Russian_Soviet_Federative_Socialist_Republic',\n",
       "       'Universal_Studios', 'Alexander_Graham_Bell',\n",
       "       'Internet_service_provider', 'Comics', 'Saint_Helena',\n",
       "       'Aspirated_consonant', 'Hydrogen', 'Web_browser', 'Boston',\n",
       "       'BeiDou_Navigation_Satellite_System', 'Canon_law',\n",
       "       'Communications_in_Somalia', 'Catalan_language',\n",
       "       'Estonian_language', 'Paper', 'Arena_Football_League',\n",
       "       'Adult_contemporary_music', 'Matter', 'Westminster_Abbey',\n",
       "       'Nanjing', 'Bern', 'Daylight_saving_time',\n",
       "       'Royal_Institute_of_British_Architects',\n",
       "       'National_Archives_and_Records_Administration', 'Tristan_da_Cunha',\n",
       "       'University_of_Kansas', 'Political_corruption', 'Dialect',\n",
       "       'Classical_music', 'Slavs', 'Southampton', 'Treaty',\n",
       "       'Josip_Broz_Tito', 'Marshall_Islands', 'Szlachta', 'Virgil',\n",
       "       'Alps', 'Gene', 'Guinea-Bissau',\n",
       "       'List_of_numbered_streets_in_Manhattan', 'Brain', 'Near_East',\n",
       "       'Zhejiang', 'Ministry_of_Defence_(United_Kingdom)',\n",
       "       'High-definition_television', 'Wood', 'Somalis', 'Middle_Ages',\n",
       "       'Phonology', 'Computer', 'Black_people', 'The_Times', 'New_Delhi',\n",
       "       'Imamah_(Shia_doctrine)', 'Bird_migration',\n",
       "       'Atlantic_City,_New_Jersey', 'Immunology', 'MP3', 'House_music',\n",
       "       'Letter_case', 'Chihuahua_(state)', 'Pitch_(music)',\n",
       "       'England_national_football_team', 'Houston', 'Copper',\n",
       "       'Identity_(social_science)', 'Himachal_Pradesh', 'Communication',\n",
       "       'Grape', 'Computer_security', 'Orthodox_Judaism', 'Animal', 'Beer',\n",
       "       'Race_and_ethnicity_in_the_United_States_Census',\n",
       "       'United_States_dollar', 'Imperial_College_London', 'Gymnastics',\n",
       "       'Hanover', 'Emotion', 'FC_Barcelona', 'Everton_F.C.',\n",
       "       'Old_English', 'Aircraft_carrier',\n",
       "       'Federal_Aviation_Administration', 'Lancashire', 'Mesozoic',\n",
       "       'Videoconferencing', 'Gregorian_calendar', 'Xbox_360',\n",
       "       'Military_history_of_the_United_States', 'Hard_rock',\n",
       "       'Great_Plains', 'Infrared', 'Biodiversity', 'ASCII', 'Digestion',\n",
       "       'Federal_Bureau_of_Investigation', 'Adolescence', 'Antarctica',\n",
       "       'Mary_(mother_of_Jesus)', 'Melbourne', 'John,_King_of_England',\n",
       "       'Macintosh', 'Anti-aircraft_warfare', 'Sanskrit', 'Valencia',\n",
       "       'General_Electric', 'United_States_Army', 'Franco-Prussian_War',\n",
       "       'Eritrea', 'Uranium', 'Order_of_the_British_Empire',\n",
       "       'Age_of_Enlightenment', 'Circadian_rhythm', 'Elizabeth_II',\n",
       "       'Sexual_orientation', 'Dell',\n",
       "       'Capital_punishment_in_the_United_States',\n",
       "       'Nintendo_Entertainment_System', 'Ashkenazi_Jews',\n",
       "       'Athanasius_of_Alexandria', 'Seattle', 'Memory',\n",
       "       'Multiracial_American', 'Pharmaceutical_industry',\n",
       "       'Umayyad_Caliphate', 'Asphalt', 'Queen_Victoria', 'Freemasonry',\n",
       "       'Israel', 'Hellenistic_period', 'Napoleon',\n",
       "       'Bill_%26_Melinda_Gates_Foundation', 'Northwestern_University',\n",
       "       'Hokkien', 'Montevideo', 'Poultry', 'Arsenal_F.C.',\n",
       "       'Dutch_language', 'Buckingham_Palace', 'Incandescent_light_bulb',\n",
       "       'Clothing', 'Chicago_Cubs', 'States_of_Germany', 'Korean_War',\n",
       "       'Royal_Dutch_Shell', 'Copyright_infringement', 'Greece', 'Mammal',\n",
       "       'East_India_Company', 'Southeast_Asia', 'Professional_wrestling',\n",
       "       'Film_speed', 'Mexico_City', 'Germans', 'New_Haven,_Connecticut',\n",
       "       'Brigham_Young_University', 'Myocardial_infarction',\n",
       "       'Department_store', 'Intellectual_property', 'Florida',\n",
       "       'Queen_(band)', 'Presbyterianism', 'Thuringia', 'Predation',\n",
       "       'Marvel_Comics', 'British_Empire', 'Botany',\n",
       "       'Madonna_(entertainer)', 'London', 'Law_of_the_United_States',\n",
       "       'Myanmar', 'Jews', 'Cotton', 'Data_compression',\n",
       "       'The_Sun_(United_Kingdom)', 'Carnival', 'Pesticide', 'Somerset',\n",
       "       'Yale_University', 'Late_Middle_Ages', 'Ann_Arbor,_Michigan',\n",
       "       'Gothic_architecture', 'Cubism', 'Political_philosophy', 'Alloy',\n",
       "       'Norfolk_Island', 'Edmund_Burke', 'Samoa', 'Pope_Paul_VI',\n",
       "       'George_VI', 'Electric_motor', 'Switzerland', 'Mali',\n",
       "       'Nonprofit_organization', 'Raleigh,_North_Carolina', 'Nutrition',\n",
       "       'Crimean_War', 'Literature', 'Avicenna', 'Chinese_characters',\n",
       "       'Bermuda', 'Nigeria', 'Utrecht', 'John_von_Neumann',\n",
       "       'Molotov%E2%80%93Ribbentrop_Pact', 'Capacitor',\n",
       "       'History_of_science', 'Czech_language', 'Digimon', 'Glacier',\n",
       "       'Planck_constant', 'Comcast', 'Tuberculosis',\n",
       "       'Affirmative_action_in_the_United_States', 'FA_Cup', 'Alsace',\n",
       "       'Baptists', 'Child_labour', 'North_Carolina', 'Heian_period',\n",
       "       'On_the_Origin_of_Species', 'Dissolution_of_the_Soviet_Union',\n",
       "       'Crucifixion_of_Jesus', 'Miami', 'Supreme_court',\n",
       "       'Textual_criticism', 'Gramophone_record', 'Turner_Classic_Movies',\n",
       "       'Hindu_philosophy', 'Political_party', 'A_cappella',\n",
       "       'Dominican_Order', 'Eton_College', 'Cork_(city)', 'Federalism',\n",
       "       'Galicia_(Spain)', 'Green', 'USB', 'Sichuan', 'Unicode', 'Detroit',\n",
       "       'Culture', 'Sahara', 'Rule_of_law', 'Tibet', 'Exhibition_game',\n",
       "       'Strasbourg', 'Oklahoma', 'History_of_India', 'Gamal_Abdel_Nasser',\n",
       "       'Pope_John_XXIII', 'Time', 'European_Central_Bank',\n",
       "       'St._John%27s,_Newfoundland_and_Labrador', 'PlayStation_3',\n",
       "       'Royal_assent', 'Group_(mathematics)', 'Central_African_Republic',\n",
       "       'Asthma', 'LaserDisc', 'Annelid', 'God', 'War_on_Terror',\n",
       "       'Labour_Party_(UK)', 'Estonia', 'Serbo-Croatian', 'Alaska',\n",
       "       'Karl_Popper', 'Mandolin', 'Insect', 'Race_(human_categorization)',\n",
       "       'Paris', 'Apollo', 'United_States_presidential_election,_2004',\n",
       "       'IBM', 'Liberal_Party_of_Australia', 'Samurai', 'Software_testing',\n",
       "       'Glass', 'Renewable_energy_commercialization', 'Palermo', 'Zinc',\n",
       "       'Neoclassical_architecture', 'CBC_Television',\n",
       "       'Appalachian_Mountains', 'Energy', 'East_Prussia',\n",
       "       'Ottoman_Empire', 'Philosophy_of_space_and_time', 'Neolithic',\n",
       "       'Friedrich_Hayek', 'Diarrhea', 'Madrasa', 'Philadelphia',\n",
       "       'John_Kerry', 'Rajasthan', 'Guam', 'Empiricism', 'Idealism',\n",
       "       'Education', 'Tennessee', 'Post-punk', 'Canadian_football',\n",
       "       'Seven_Years%27_War', 'Richard_Feynman', 'Muammar_Gaddafi',\n",
       "       'Cyprus', 'Steven_Spielberg', 'Elevator', 'Neptune',\n",
       "       'Railway_electrification_system',\n",
       "       'Spanish_language_in_the_United_States',\n",
       "       'Charleston,_South_Carolina', 'Red', 'The_Blitz',\n",
       "       'Endangered_Species_Act', 'Vacuum', 'Han_dynasty', 'Greeks',\n",
       "       'Quran', 'Great_power', 'Geography_of_the_United_States',\n",
       "       'Compact_disc', 'Transistor', 'Modern_history', '51st_state',\n",
       "       'Antenna_(radio)', 'Flowering_plant', 'Hyderabad',\n",
       "       'Santa_Monica,_California', 'Washington_University_in_St._Louis',\n",
       "       'Central_Intelligence_Agency', 'Pain', 'Database',\n",
       "       'Tucson,_Arizona', 'Armenia', 'Bacteria', 'Printed_circuit_board',\n",
       "       'Premier_League', 'Roman_Republic', 'Pacific_War',\n",
       "       'Richmond,_Virginia', 'San_Diego', 'Muslim_world', 'Iran',\n",
       "       'British_Isles', 'Association_football', 'Georgian_architecture',\n",
       "       'Liberia', 'Windows_8', 'Swaziland', 'Translation', 'Airport',\n",
       "       'Kievan_Rus%27', 'Super_Nintendo_Entertainment_System', 'Sumer',\n",
       "       'Tuvalu', 'Immaculate_Conception', 'Namibia', 'Russian_language',\n",
       "       'United_States_Air_Force', 'Light-emitting_diode', 'Bird',\n",
       "       'Qing_dynasty', 'Indigenous_peoples_of_the_Americas', 'Egypt',\n",
       "       'Mosaic', 'University', 'Religion_in_ancient_Rome', 'YouTube',\n",
       "       'Separation_of_church_and_state_in_the_United_States',\n",
       "       'Protestantism', 'Bras%C3%ADlia', 'Economy_of_Greece',\n",
       "       'Party_leaders_of_the_United_States_House_of_Representatives',\n",
       "       'Armenians', 'Jehovah%27s_Witnesses', 'Dwight_D._Eisenhower',\n",
       "       'The_Bronx', 'Humanism', 'Geological_history_of_Earth', 'Police',\n",
       "       'Punjab,_Pakistan', 'Infection', 'Hunting', 'Kathmandu'],\n",
       "      dtype=object)"
      ]
     },
     "execution_count": 3,
     "metadata": {},
     "output_type": "execute_result"
    }
   ],
   "source": [
    "df['title'] .unique()"
   ]
  },
  {
   "cell_type": "code",
   "execution_count": 4,
   "id": "167b6198",
   "metadata": {},
   "outputs": [
    {
     "data": {
      "application/vnd.microsoft.datawrangler.viewer.v0+json": {
       "columns": [
        {
         "name": "index",
         "rawType": "int64",
         "type": "integer"
        },
        {
         "name": "id",
         "rawType": "object",
         "type": "string"
        },
        {
         "name": "title",
         "rawType": "object",
         "type": "string"
        },
        {
         "name": "context",
         "rawType": "object",
         "type": "string"
        },
        {
         "name": "question",
         "rawType": "object",
         "type": "string"
        },
        {
         "name": "answers",
         "rawType": "object",
         "type": "string"
        }
       ],
       "conversionMethod": "pd.DataFrame",
       "ref": "40c24e00-a55a-4f89-8032-bdff8637b5b9",
       "rows": [
        [
         "7753",
         "56d47d7d2ccc5a1400d8314e",
         "Dog",
         "The domestic dog (Canis lupus familiaris or Canis familiaris) is a domesticated canid which has been selectively bred for millennia for various behaviors, sensory capabilities, and physical attributes.",
         "What is the three word Latin name for domesticated dogs?",
         "{'text': ['Canis lupus familiaris'], 'answer_start': [18]}"
        ],
        [
         "7754",
         "56d99788dc89441400fdb580",
         "Dog",
         "The domestic dog (Canis lupus familiaris or Canis familiaris) is a domesticated canid which has been selectively bred for millennia for various behaviors, sensory capabilities, and physical attributes.",
         "What is Canis familiaris?",
         "{'text': ['domestic dog'], 'answer_start': [4]}"
        ],
        [
         "7755",
         "56d99788dc89441400fdb581",
         "Dog",
         "The domestic dog (Canis lupus familiaris or Canis familiaris) is a domesticated canid which has been selectively bred for millennia for various behaviors, sensory capabilities, and physical attributes.",
         "How long has the domestic dog been selectively bred?",
         "{'text': ['millennia'], 'answer_start': [122]}"
        ],
        [
         "7756",
         "56d99788dc89441400fdb582",
         "Dog",
         "The domestic dog (Canis lupus familiaris or Canis familiaris) is a domesticated canid which has been selectively bred for millennia for various behaviors, sensory capabilities, and physical attributes.",
         "Along with various behaviors and physical attributes, what were domestic dogs bred for?",
         "{'text': ['sensory capabilities'], 'answer_start': [155]}"
        ],
        [
         "7757",
         "56d4a7a72ccc5a1400d83168",
         "Dog",
         "Although initially thought to have originated as a manmade variant of an extant canid species (variously supposed as being the dhole, golden jackal, or gray wolf), extensive genetic studies undertaken during the 2010s indicate that dogs diverged from an extinct wolf-like canid in Eurasia 40,000 years ago. Being the oldest domesticated animal, their long association with people has allowed dogs to be uniquely attuned to human behavior, as well as thrive on a starch-rich diet which would be inadequate for other canid species.",
         "What decade had significant studies of dog genes to determine origins?",
         "{'text': ['2010s'], 'answer_start': [212]}"
        ],
        [
         "7758",
         "56d4a7a72ccc5a1400d83169",
         "Dog",
         "Although initially thought to have originated as a manmade variant of an extant canid species (variously supposed as being the dhole, golden jackal, or gray wolf), extensive genetic studies undertaken during the 2010s indicate that dogs diverged from an extinct wolf-like canid in Eurasia 40,000 years ago. Being the oldest domesticated animal, their long association with people has allowed dogs to be uniquely attuned to human behavior, as well as thrive on a starch-rich diet which would be inadequate for other canid species.",
         "Testing revealed today's dogs trace back by how many years?",
         "{'text': ['40,000'], 'answer_start': [289]}"
        ],
        [
         "7759",
         "56d4a7a72ccc5a1400d8316a",
         "Dog",
         "Although initially thought to have originated as a manmade variant of an extant canid species (variously supposed as being the dhole, golden jackal, or gray wolf), extensive genetic studies undertaken during the 2010s indicate that dogs diverged from an extinct wolf-like canid in Eurasia 40,000 years ago. Being the oldest domesticated animal, their long association with people has allowed dogs to be uniquely attuned to human behavior, as well as thrive on a starch-rich diet which would be inadequate for other canid species.",
         "What is the region where domesticated dogs ancestry traces to?",
         "{'text': ['Eurasia'], 'answer_start': [281]}"
        ],
        [
         "7760",
         "56d4a7a72ccc5a1400d8316b",
         "Dog",
         "Although initially thought to have originated as a manmade variant of an extant canid species (variously supposed as being the dhole, golden jackal, or gray wolf), extensive genetic studies undertaken during the 2010s indicate that dogs diverged from an extinct wolf-like canid in Eurasia 40,000 years ago. Being the oldest domesticated animal, their long association with people has allowed dogs to be uniquely attuned to human behavior, as well as thrive on a starch-rich diet which would be inadequate for other canid species.",
         "What type of diet can modern domesticated dogs thrive eating that other dogs cannot?",
         "{'text': ['starch-rich'], 'answer_start': [462]}"
        ],
        [
         "7761",
         "56d997d0dc89441400fdb590",
         "Dog",
         "Although initially thought to have originated as a manmade variant of an extant canid species (variously supposed as being the dhole, golden jackal, or gray wolf), extensive genetic studies undertaken during the 2010s indicate that dogs diverged from an extinct wolf-like canid in Eurasia 40,000 years ago. Being the oldest domesticated animal, their long association with people has allowed dogs to be uniquely attuned to human behavior, as well as thrive on a starch-rich diet which would be inadequate for other canid species.",
         "What was undertaken in 2010 to determine where dogs originated from?",
         "{'text': ['extensive genetic studies'], 'answer_start': [164]}"
        ],
        [
         "7762",
         "56d4bb172ccc5a1400d83186",
         "Dog",
         "Dogs perform many roles for people, such as hunting, herding, pulling loads, protection, assisting police and military, companionship, and, more recently, aiding handicapped individuals. This impact on human society has given them the nickname \"man's best friend\" in the Western world. In some cultures, however, dogs are a source of meat.",
         "What is the most common phrase, or nickname, used by people in the United States to describe dogs in general?",
         "{'text': [\"man's best friend\"], 'answer_start': [245]}"
        ],
        [
         "7763",
         "56d9984fdc89441400fdb592",
         "Dog",
         "Dogs perform many roles for people, such as hunting, herding, pulling loads, protection, assisting police and military, companionship, and, more recently, aiding handicapped individuals. This impact on human society has given them the nickname \"man's best friend\" in the Western world. In some cultures, however, dogs are a source of meat.",
         "What moniker has been given to dogs in Western cultures?",
         "{'text': [\"man's best friend\"], 'answer_start': [245]}"
        ],
        [
         "7764",
         "56d9984fdc89441400fdb593",
         "Dog",
         "Dogs perform many roles for people, such as hunting, herding, pulling loads, protection, assisting police and military, companionship, and, more recently, aiding handicapped individuals. This impact on human society has given them the nickname \"man's best friend\" in the Western world. In some cultures, however, dogs are a source of meat.",
         "Dogs are a source of what in some cultures?",
         "{'text': ['meat'], 'answer_start': [334]}"
        ],
        [
         "7765",
         "56d4bc242ccc5a1400d8318b",
         "Dog",
         "The term \"domestic dog\" is generally used for both of the domesticated and feral varieties. The English word dog comes from Middle English dogge, from Old English docga, a \"powerful dog breed\". The term may possibly derive from Proto-Germanic *dukkōn, represented in Old English finger-docce (\"finger-muscle\"). The word also shows the familiar petname diminutive -ga also seen in frogga \"frog\", picga \"pig\", stagga \"stag\", wicga \"beetle, worm\", among others. The term dog may ultimately derive from the earliest layer of Proto-Indo-European vocabulary.",
         "What is the Proto-Germanic word that \"dog\" may have come from?",
         "{'text': ['dukkōn'], 'answer_start': [244]}"
        ],
        [
         "7766",
         "56d4bc242ccc5a1400d8318c",
         "Dog",
         "The term \"domestic dog\" is generally used for both of the domesticated and feral varieties. The English word dog comes from Middle English dogge, from Old English docga, a \"powerful dog breed\". The term may possibly derive from Proto-Germanic *dukkōn, represented in Old English finger-docce (\"finger-muscle\"). The word also shows the familiar petname diminutive -ga also seen in frogga \"frog\", picga \"pig\", stagga \"stag\", wicga \"beetle, worm\", among others. The term dog may ultimately derive from the earliest layer of Proto-Indo-European vocabulary.",
         "What may be the earliest vocabulary that the word \"dog\" came from?",
         "{'text': ['Proto-Indo-European'], 'answer_start': [521]}"
        ],
        [
         "7767",
         "56d998c8dc89441400fdb597",
         "Dog",
         "The term \"domestic dog\" is generally used for both of the domesticated and feral varieties. The English word dog comes from Middle English dogge, from Old English docga, a \"powerful dog breed\". The term may possibly derive from Proto-Germanic *dukkōn, represented in Old English finger-docce (\"finger-muscle\"). The word also shows the familiar petname diminutive -ga also seen in frogga \"frog\", picga \"pig\", stagga \"stag\", wicga \"beetle, worm\", among others. The term dog may ultimately derive from the earliest layer of Proto-Indo-European vocabulary.",
         "Where does the word dog originate?",
         "{'text': ['Old English docga'], 'answer_start': [151]}"
        ],
        [
         "7768",
         "56d998c8dc89441400fdb598",
         "Dog",
         "The term \"domestic dog\" is generally used for both of the domesticated and feral varieties. The English word dog comes from Middle English dogge, from Old English docga, a \"powerful dog breed\". The term may possibly derive from Proto-Germanic *dukkōn, represented in Old English finger-docce (\"finger-muscle\"). The word also shows the familiar petname diminutive -ga also seen in frogga \"frog\", picga \"pig\", stagga \"stag\", wicga \"beetle, worm\", among others. The term dog may ultimately derive from the earliest layer of Proto-Indo-European vocabulary.",
         "Dog could also come from the original layer of what vocabulary?",
         "{'text': ['Proto-Indo-European'], 'answer_start': [521]}"
        ],
        [
         "7769",
         "56d4bcef2ccc5a1400d8319a",
         "Dog",
         "In 14th-century England, hound (from Old English: hund) was the general word for all domestic canines, and dog referred to a subtype of hound, a group including the mastiff. It is believed this \"dog\" type was so common, it eventually became the prototype of the category \"hound\". By the 16th century, dog had become the general word, and hound had begun to refer only to types used for hunting. The word \"hound\" is ultimately derived from the Proto-Indo-European word *kwon- \"dog\".",
         "What was the common 14th-century word for dogs for those who spoke English?",
         "{'text': ['hound'], 'answer_start': [25]}"
        ],
        [
         "7770",
         "56d4bcef2ccc5a1400d8319b",
         "Dog",
         "In 14th-century England, hound (from Old English: hund) was the general word for all domestic canines, and dog referred to a subtype of hound, a group including the mastiff. It is believed this \"dog\" type was so common, it eventually became the prototype of the category \"hound\". By the 16th century, dog had become the general word, and hound had begun to refer only to types used for hunting. The word \"hound\" is ultimately derived from the Proto-Indo-European word *kwon- \"dog\".",
         "What breed was so prolific it became a prototype of hound?",
         "{'text': ['mastiff.'], 'answer_start': [165]}"
        ],
        [
         "7771",
         "56d4bcef2ccc5a1400d8319c",
         "Dog",
         "In 14th-century England, hound (from Old English: hund) was the general word for all domestic canines, and dog referred to a subtype of hound, a group including the mastiff. It is believed this \"dog\" type was so common, it eventually became the prototype of the category \"hound\". By the 16th century, dog had become the general word, and hound had begun to refer only to types used for hunting. The word \"hound\" is ultimately derived from the Proto-Indo-European word *kwon- \"dog\".",
         "In what century did \"hound\" start to only apply to hunting dogs?",
         "{'text': ['16th'], 'answer_start': [287]}"
        ],
        [
         "7772",
         "56d99962dc89441400fdb5a6",
         "Dog",
         "In 14th-century England, hound (from Old English: hund) was the general word for all domestic canines, and dog referred to a subtype of hound, a group including the mastiff. It is believed this \"dog\" type was so common, it eventually became the prototype of the category \"hound\". By the 16th century, dog had become the general word, and hound had begun to refer only to types used for hunting. The word \"hound\" is ultimately derived from the Proto-Indo-European word *kwon- \"dog\".",
         "What was the common term for all domesticated dogs in England during the 14th century?",
         "{'text': ['hound'], 'answer_start': [25]}"
        ],
        [
         "7773",
         "56d99962dc89441400fdb5a7",
         "Dog",
         "In 14th-century England, hound (from Old English: hund) was the general word for all domestic canines, and dog referred to a subtype of hound, a group including the mastiff. It is believed this \"dog\" type was so common, it eventually became the prototype of the category \"hound\". By the 16th century, dog had become the general word, and hound had begun to refer only to types used for hunting. The word \"hound\" is ultimately derived from the Proto-Indo-European word *kwon- \"dog\".",
         "When did the word dog become the common term for canines?",
         "{'text': ['16th century'], 'answer_start': [287]}"
        ],
        [
         "7774",
         "56d99962dc89441400fdb5a8",
         "Dog",
         "In 14th-century England, hound (from Old English: hund) was the general word for all domestic canines, and dog referred to a subtype of hound, a group including the mastiff. It is believed this \"dog\" type was so common, it eventually became the prototype of the category \"hound\". By the 16th century, dog had become the general word, and hound had begun to refer only to types used for hunting. The word \"hound\" is ultimately derived from the Proto-Indo-European word *kwon- \"dog\".",
         "Hound became the term for dogs who did what activity during this time?",
         "{'text': ['hunting'], 'answer_start': [386]}"
        ],
        [
         "7775",
         "56d99962dc89441400fdb5a9",
         "Dog",
         "In 14th-century England, hound (from Old English: hund) was the general word for all domestic canines, and dog referred to a subtype of hound, a group including the mastiff. It is believed this \"dog\" type was so common, it eventually became the prototype of the category \"hound\". By the 16th century, dog had become the general word, and hound had begun to refer only to types used for hunting. The word \"hound\" is ultimately derived from the Proto-Indo-European word *kwon- \"dog\".",
         "What Proto-Indo-European word is hound from?",
         "{'text': ['*kwon- \"dog\"'], 'answer_start': [468]}"
        ],
        [
         "7776",
         "56d4bdcd2ccc5a1400d831aa",
         "Dog",
         "In breeding circles, a male canine is referred to as a dog, while a female is called a bitch (Middle English bicche, from Old English bicce, ultimately from Old Norse bikkja). A group of offspring is a litter. The father of a litter is called the sire, and the mother is called the dam. Offspring are, in general, called pups or puppies, from French poupée, until they are about a year old. The process of birth is whelping, from the Old English word hwelp.",
         "What are a single birth group of puppies of a dog called collectively?",
         "{'text': ['a litter.'], 'answer_start': [200]}"
        ],
        [
         "7777",
         "56d4bdcd2ccc5a1400d831ab",
         "Dog",
         "In breeding circles, a male canine is referred to as a dog, while a female is called a bitch (Middle English bicche, from Old English bicce, ultimately from Old Norse bikkja). A group of offspring is a litter. The father of a litter is called the sire, and the mother is called the dam. Offspring are, in general, called pups or puppies, from French poupée, until they are about a year old. The process of birth is whelping, from the Old English word hwelp.",
         "What is the male who is father of the pups called?",
         "{'text': ['sire'], 'answer_start': [247]}"
        ],
        [
         "7778",
         "56d4bdcd2ccc5a1400d831ac",
         "Dog",
         "In breeding circles, a male canine is referred to as a dog, while a female is called a bitch (Middle English bicche, from Old English bicce, ultimately from Old Norse bikkja). A group of offspring is a litter. The father of a litter is called the sire, and the mother is called the dam. Offspring are, in general, called pups or puppies, from French poupée, until they are about a year old. The process of birth is whelping, from the Old English word hwelp.",
         "What is the French word that \"puppy\" comes from?",
         "{'text': ['poupée'], 'answer_start': [350]}"
        ],
        [
         "7779",
         "56d4bdcd2ccc5a1400d831ad",
         "Dog",
         "In breeding circles, a male canine is referred to as a dog, while a female is called a bitch (Middle English bicche, from Old English bicce, ultimately from Old Norse bikkja). A group of offspring is a litter. The father of a litter is called the sire, and the mother is called the dam. Offspring are, in general, called pups or puppies, from French poupée, until they are about a year old. The process of birth is whelping, from the Old English word hwelp.",
         "What is giving birth to dogs called?",
         "{'text': ['whelping'], 'answer_start': [415]}"
        ],
        [
         "7780",
         "56d4bdcd2ccc5a1400d831ae",
         "Dog",
         "In breeding circles, a male canine is referred to as a dog, while a female is called a bitch (Middle English bicche, from Old English bicce, ultimately from Old Norse bikkja). A group of offspring is a litter. The father of a litter is called the sire, and the mother is called the dam. Offspring are, in general, called pups or puppies, from French poupée, until they are about a year old. The process of birth is whelping, from the Old English word hwelp.",
         "What is the English word for female dog that has also become profanity?",
         "{'text': ['bitch'], 'answer_start': [87]}"
        ],
        [
         "7781",
         "56d999dcdc89441400fdb5ae",
         "Dog",
         "In breeding circles, a male canine is referred to as a dog, while a female is called a bitch (Middle English bicche, from Old English bicce, ultimately from Old Norse bikkja). A group of offspring is a litter. The father of a litter is called the sire, and the mother is called the dam. Offspring are, in general, called pups or puppies, from French poupée, until they are about a year old. The process of birth is whelping, from the Old English word hwelp.",
         "A male canine is called a dog while a female canine is called a what in reference to breeding?",
         "{'text': ['bitch'], 'answer_start': [87]}"
        ],
        [
         "7782",
         "56d999dcdc89441400fdb5af",
         "Dog",
         "In breeding circles, a male canine is referred to as a dog, while a female is called a bitch (Middle English bicche, from Old English bicce, ultimately from Old Norse bikkja). A group of offspring is a litter. The father of a litter is called the sire, and the mother is called the dam. Offspring are, in general, called pups or puppies, from French poupée, until they are about a year old. The process of birth is whelping, from the Old English word hwelp.",
         "What are canine offspring referred as?",
         "{'text': ['litter'], 'answer_start': [202]}"
        ],
        [
         "7783",
         "56d999dcdc89441400fdb5b0",
         "Dog",
         "In breeding circles, a male canine is referred to as a dog, while a female is called a bitch (Middle English bicche, from Old English bicce, ultimately from Old Norse bikkja). A group of offspring is a litter. The father of a litter is called the sire, and the mother is called the dam. Offspring are, in general, called pups or puppies, from French poupée, until they are about a year old. The process of birth is whelping, from the Old English word hwelp.",
         "What is the father of a litter referred as?",
         "{'text': ['sire'], 'answer_start': [247]}"
        ],
        [
         "7784",
         "56d999dcdc89441400fdb5b1",
         "Dog",
         "In breeding circles, a male canine is referred to as a dog, while a female is called a bitch (Middle English bicche, from Old English bicce, ultimately from Old Norse bikkja). A group of offspring is a litter. The father of a litter is called the sire, and the mother is called the dam. Offspring are, in general, called pups or puppies, from French poupée, until they are about a year old. The process of birth is whelping, from the Old English word hwelp.",
         "What is the mother of a litter referred as?",
         "{'text': ['dam'], 'answer_start': [282]}"
        ],
        [
         "7785",
         "56d999dcdc89441400fdb5b2",
         "Dog",
         "In breeding circles, a male canine is referred to as a dog, while a female is called a bitch (Middle English bicche, from Old English bicce, ultimately from Old Norse bikkja). A group of offspring is a litter. The father of a litter is called the sire, and the mother is called the dam. Offspring are, in general, called pups or puppies, from French poupée, until they are about a year old. The process of birth is whelping, from the Old English word hwelp.",
         "What are the individual litter canines called?",
         "{'text': ['pups'], 'answer_start': [321]}"
        ],
        [
         "7786",
         "56d4befa2ccc5a1400d831b4",
         "Dog",
         "In 1758, the taxonomist Linnaeus published in Systema Naturae a categorization of species which included the Canis species. Canis is a Latin word meaning dog, and the list included the dog-like carnivores: the domestic dog, wolves, foxes and jackals. The dog was classified as Canis familiaris, which means \"Dog-family\" or the family dog. On the next page he recorded the wolf as Canis lupus, which means \"Dog-wolf\". In 1978, a review aimed at reducing the number of recognized Canis species proposed that \"Canis dingo is now generally regarded as a distinctive feral domestic dog. Canis familiaris is used for domestic dogs, although taxonomically it should probably be synonymous with Canis lupus.\" In 1982, the first edition of Mammal Species of the World listed Canis familiaris under Canis lupus with the comment: \"Probably ancestor of and conspecific with the domestic dog, familiaris. Canis familiaris has page priority over Canis lupus, but both were published simultaneously in Linnaeus (1758), and Canis lupus has been universally used for this species\", which avoided classifying the wolf as the family dog. The dog is now listed among the many other Latin-named subspecies of Canis lupus as Canis lupus familiaris.",
         "What is the Latin term for \"dog.?\"",
         "{'text': ['Canis'], 'answer_start': [109]}"
        ],
        [
         "7787",
         "56d4befa2ccc5a1400d831b5",
         "Dog",
         "In 1758, the taxonomist Linnaeus published in Systema Naturae a categorization of species which included the Canis species. Canis is a Latin word meaning dog, and the list included the dog-like carnivores: the domestic dog, wolves, foxes and jackals. The dog was classified as Canis familiaris, which means \"Dog-family\" or the family dog. On the next page he recorded the wolf as Canis lupus, which means \"Dog-wolf\". In 1978, a review aimed at reducing the number of recognized Canis species proposed that \"Canis dingo is now generally regarded as a distinctive feral domestic dog. Canis familiaris is used for domestic dogs, although taxonomically it should probably be synonymous with Canis lupus.\" In 1982, the first edition of Mammal Species of the World listed Canis familiaris under Canis lupus with the comment: \"Probably ancestor of and conspecific with the domestic dog, familiaris. Canis familiaris has page priority over Canis lupus, but both were published simultaneously in Linnaeus (1758), and Canis lupus has been universally used for this species\", which avoided classifying the wolf as the family dog. The dog is now listed among the many other Latin-named subspecies of Canis lupus as Canis lupus familiaris.",
         "What year are dogs first listed in Systema Naturae?",
         "{'text': ['1758'], 'answer_start': [3]}"
        ],
        [
         "7788",
         "56d4befa2ccc5a1400d831b6",
         "Dog",
         "In 1758, the taxonomist Linnaeus published in Systema Naturae a categorization of species which included the Canis species. Canis is a Latin word meaning dog, and the list included the dog-like carnivores: the domestic dog, wolves, foxes and jackals. The dog was classified as Canis familiaris, which means \"Dog-family\" or the family dog. On the next page he recorded the wolf as Canis lupus, which means \"Dog-wolf\". In 1978, a review aimed at reducing the number of recognized Canis species proposed that \"Canis dingo is now generally regarded as a distinctive feral domestic dog. Canis familiaris is used for domestic dogs, although taxonomically it should probably be synonymous with Canis lupus.\" In 1982, the first edition of Mammal Species of the World listed Canis familiaris under Canis lupus with the comment: \"Probably ancestor of and conspecific with the domestic dog, familiaris. Canis familiaris has page priority over Canis lupus, but both were published simultaneously in Linnaeus (1758), and Canis lupus has been universally used for this species\", which avoided classifying the wolf as the family dog. The dog is now listed among the many other Latin-named subspecies of Canis lupus as Canis lupus familiaris.",
         "Who published Systema Naturae?",
         "{'text': ['Linnaeus'], 'answer_start': [24]}"
        ],
        [
         "7789",
         "56d4befa2ccc5a1400d831b7",
         "Dog",
         "In 1758, the taxonomist Linnaeus published in Systema Naturae a categorization of species which included the Canis species. Canis is a Latin word meaning dog, and the list included the dog-like carnivores: the domestic dog, wolves, foxes and jackals. The dog was classified as Canis familiaris, which means \"Dog-family\" or the family dog. On the next page he recorded the wolf as Canis lupus, which means \"Dog-wolf\". In 1978, a review aimed at reducing the number of recognized Canis species proposed that \"Canis dingo is now generally regarded as a distinctive feral domestic dog. Canis familiaris is used for domestic dogs, although taxonomically it should probably be synonymous with Canis lupus.\" In 1982, the first edition of Mammal Species of the World listed Canis familiaris under Canis lupus with the comment: \"Probably ancestor of and conspecific with the domestic dog, familiaris. Canis familiaris has page priority over Canis lupus, but both were published simultaneously in Linnaeus (1758), and Canis lupus has been universally used for this species\", which avoided classifying the wolf as the family dog. The dog is now listed among the many other Latin-named subspecies of Canis lupus as Canis lupus familiaris.",
         "What is the modern single English word for Canis lupus?",
         "{'text': ['wolf'], 'answer_start': [372]}"
        ],
        [
         "7790",
         "56d4befa2ccc5a1400d831b8",
         "Dog",
         "In 1758, the taxonomist Linnaeus published in Systema Naturae a categorization of species which included the Canis species. Canis is a Latin word meaning dog, and the list included the dog-like carnivores: the domestic dog, wolves, foxes and jackals. The dog was classified as Canis familiaris, which means \"Dog-family\" or the family dog. On the next page he recorded the wolf as Canis lupus, which means \"Dog-wolf\". In 1978, a review aimed at reducing the number of recognized Canis species proposed that \"Canis dingo is now generally regarded as a distinctive feral domestic dog. Canis familiaris is used for domestic dogs, although taxonomically it should probably be synonymous with Canis lupus.\" In 1982, the first edition of Mammal Species of the World listed Canis familiaris under Canis lupus with the comment: \"Probably ancestor of and conspecific with the domestic dog, familiaris. Canis familiaris has page priority over Canis lupus, but both were published simultaneously in Linnaeus (1758), and Canis lupus has been universally used for this species\", which avoided classifying the wolf as the family dog. The dog is now listed among the many other Latin-named subspecies of Canis lupus as Canis lupus familiaris.",
         "What 1982 publication listed regular family dogs under wolves?",
         "{'text': ['Mammal Species of the World'], 'answer_start': [731]}"
        ],
        [
         "7791",
         "56d99aa4dc89441400fdb5b8",
         "Dog",
         "In 1758, the taxonomist Linnaeus published in Systema Naturae a categorization of species which included the Canis species. Canis is a Latin word meaning dog, and the list included the dog-like carnivores: the domestic dog, wolves, foxes and jackals. The dog was classified as Canis familiaris, which means \"Dog-family\" or the family dog. On the next page he recorded the wolf as Canis lupus, which means \"Dog-wolf\". In 1978, a review aimed at reducing the number of recognized Canis species proposed that \"Canis dingo is now generally regarded as a distinctive feral domestic dog. Canis familiaris is used for domestic dogs, although taxonomically it should probably be synonymous with Canis lupus.\" In 1982, the first edition of Mammal Species of the World listed Canis familiaris under Canis lupus with the comment: \"Probably ancestor of and conspecific with the domestic dog, familiaris. Canis familiaris has page priority over Canis lupus, but both were published simultaneously in Linnaeus (1758), and Canis lupus has been universally used for this species\", which avoided classifying the wolf as the family dog. The dog is now listed among the many other Latin-named subspecies of Canis lupus as Canis lupus familiaris.",
         "What is the Latin word for dog?",
         "{'text': ['Canis'], 'answer_start': [109]}"
        ],
        [
         "7792",
         "56d99aa4dc89441400fdb5b9",
         "Dog",
         "In 1758, the taxonomist Linnaeus published in Systema Naturae a categorization of species which included the Canis species. Canis is a Latin word meaning dog, and the list included the dog-like carnivores: the domestic dog, wolves, foxes and jackals. The dog was classified as Canis familiaris, which means \"Dog-family\" or the family dog. On the next page he recorded the wolf as Canis lupus, which means \"Dog-wolf\". In 1978, a review aimed at reducing the number of recognized Canis species proposed that \"Canis dingo is now generally regarded as a distinctive feral domestic dog. Canis familiaris is used for domestic dogs, although taxonomically it should probably be synonymous with Canis lupus.\" In 1982, the first edition of Mammal Species of the World listed Canis familiaris under Canis lupus with the comment: \"Probably ancestor of and conspecific with the domestic dog, familiaris. Canis familiaris has page priority over Canis lupus, but both were published simultaneously in Linnaeus (1758), and Canis lupus has been universally used for this species\", which avoided classifying the wolf as the family dog. The dog is now listed among the many other Latin-named subspecies of Canis lupus as Canis lupus familiaris.",
         "Canis familiaris is the classification for dogs, and is known as what?",
         "{'text': ['family dog'], 'answer_start': [327]}"
        ],
        [
         "7793",
         "56d99aa4dc89441400fdb5ba",
         "Dog",
         "In 1758, the taxonomist Linnaeus published in Systema Naturae a categorization of species which included the Canis species. Canis is a Latin word meaning dog, and the list included the dog-like carnivores: the domestic dog, wolves, foxes and jackals. The dog was classified as Canis familiaris, which means \"Dog-family\" or the family dog. On the next page he recorded the wolf as Canis lupus, which means \"Dog-wolf\". In 1978, a review aimed at reducing the number of recognized Canis species proposed that \"Canis dingo is now generally regarded as a distinctive feral domestic dog. Canis familiaris is used for domestic dogs, although taxonomically it should probably be synonymous with Canis lupus.\" In 1982, the first edition of Mammal Species of the World listed Canis familiaris under Canis lupus with the comment: \"Probably ancestor of and conspecific with the domestic dog, familiaris. Canis familiaris has page priority over Canis lupus, but both were published simultaneously in Linnaeus (1758), and Canis lupus has been universally used for this species\", which avoided classifying the wolf as the family dog. The dog is now listed among the many other Latin-named subspecies of Canis lupus as Canis lupus familiaris.",
         "What is the Latin name for a wolf?",
         "{'text': ['Canis lupus'], 'answer_start': [380]}"
        ],
        [
         "7794",
         "56d99aa4dc89441400fdb5bb",
         "Dog",
         "In 1758, the taxonomist Linnaeus published in Systema Naturae a categorization of species which included the Canis species. Canis is a Latin word meaning dog, and the list included the dog-like carnivores: the domestic dog, wolves, foxes and jackals. The dog was classified as Canis familiaris, which means \"Dog-family\" or the family dog. On the next page he recorded the wolf as Canis lupus, which means \"Dog-wolf\". In 1978, a review aimed at reducing the number of recognized Canis species proposed that \"Canis dingo is now generally regarded as a distinctive feral domestic dog. Canis familiaris is used for domestic dogs, although taxonomically it should probably be synonymous with Canis lupus.\" In 1982, the first edition of Mammal Species of the World listed Canis familiaris under Canis lupus with the comment: \"Probably ancestor of and conspecific with the domestic dog, familiaris. Canis familiaris has page priority over Canis lupus, but both were published simultaneously in Linnaeus (1758), and Canis lupus has been universally used for this species\", which avoided classifying the wolf as the family dog. The dog is now listed among the many other Latin-named subspecies of Canis lupus as Canis lupus familiaris.",
         "Feral dogs have what Latin classification?",
         "{'text': ['Canis dingo'], 'answer_start': [507]}"
        ],
        [
         "7795",
         "56d99aa4dc89441400fdb5bc",
         "Dog",
         "In 1758, the taxonomist Linnaeus published in Systema Naturae a categorization of species which included the Canis species. Canis is a Latin word meaning dog, and the list included the dog-like carnivores: the domestic dog, wolves, foxes and jackals. The dog was classified as Canis familiaris, which means \"Dog-family\" or the family dog. On the next page he recorded the wolf as Canis lupus, which means \"Dog-wolf\". In 1978, a review aimed at reducing the number of recognized Canis species proposed that \"Canis dingo is now generally regarded as a distinctive feral domestic dog. Canis familiaris is used for domestic dogs, although taxonomically it should probably be synonymous with Canis lupus.\" In 1982, the first edition of Mammal Species of the World listed Canis familiaris under Canis lupus with the comment: \"Probably ancestor of and conspecific with the domestic dog, familiaris. Canis familiaris has page priority over Canis lupus, but both were published simultaneously in Linnaeus (1758), and Canis lupus has been universally used for this species\", which avoided classifying the wolf as the family dog. The dog is now listed among the many other Latin-named subspecies of Canis lupus as Canis lupus familiaris.",
         "What year was Canis familiaris listed under Canis lupus?",
         "{'text': ['1982'], 'answer_start': [704]}"
        ],
        [
         "7796",
         "56d4c13d2ccc5a1400d831d2",
         "Dog",
         "In 2003, the ICZN ruled in its Opinion 2027 that if wild animals and their domesticated derivatives are regarded as one species, then the scientific name of that species is the scientific name of the wild animal. In 2005, the third edition of Mammal Species of the World upheld Opinion 2027 with the name Lupus and the note: \"Includes the domestic dog as a subspecies, with the dingo provisionally separate - artificial variants created by domestication and selective breeding\". However, Canis familiaris is sometimes used due to an ongoing nomenclature debate because wild and domestic animals are separately recognizable entities and that the ICZN allowed users a choice as to which name they could use, and a number of internationally recognized researchers prefer to use Canis familiaris.",
         "What year was it decided that if wolves and dogs were one species, then their scientific name is the name of the wild variety?",
         "{'text': ['2003'], 'answer_start': [3]}"
        ],
        [
         "7797",
         "56d4c13d2ccc5a1400d831d3",
         "Dog",
         "In 2003, the ICZN ruled in its Opinion 2027 that if wild animals and their domesticated derivatives are regarded as one species, then the scientific name of that species is the scientific name of the wild animal. In 2005, the third edition of Mammal Species of the World upheld Opinion 2027 with the name Lupus and the note: \"Includes the domestic dog as a subspecies, with the dingo provisionally separate - artificial variants created by domestication and selective breeding\". However, Canis familiaris is sometimes used due to an ongoing nomenclature debate because wild and domestic animals are separately recognizable entities and that the ICZN allowed users a choice as to which name they could use, and a number of internationally recognized researchers prefer to use Canis familiaris.",
         "What 2005 publication in its third edition kept to that ruling?",
         "{'text': ['Mammal Species of the World'], 'answer_start': [243]}"
        ],
        [
         "7798",
         "56d4c13d2ccc5a1400d831d4",
         "Dog",
         "In 2003, the ICZN ruled in its Opinion 2027 that if wild animals and their domesticated derivatives are regarded as one species, then the scientific name of that species is the scientific name of the wild animal. In 2005, the third edition of Mammal Species of the World upheld Opinion 2027 with the name Lupus and the note: \"Includes the domestic dog as a subspecies, with the dingo provisionally separate - artificial variants created by domestication and selective breeding\". However, Canis familiaris is sometimes used due to an ongoing nomenclature debate because wild and domestic animals are separately recognizable entities and that the ICZN allowed users a choice as to which name they could use, and a number of internationally recognized researchers prefer to use Canis familiaris.",
         "What Latin dog term is still used because wild and domesticated dogs are recognizably different?",
         "{'text': ['Canis familiaris.'], 'answer_start': [775]}"
        ],
        [
         "7799",
         "56d4c13d2ccc5a1400d831d5",
         "Dog",
         "In 2003, the ICZN ruled in its Opinion 2027 that if wild animals and their domesticated derivatives are regarded as one species, then the scientific name of that species is the scientific name of the wild animal. In 2005, the third edition of Mammal Species of the World upheld Opinion 2027 with the name Lupus and the note: \"Includes the domestic dog as a subspecies, with the dingo provisionally separate - artificial variants created by domestication and selective breeding\". However, Canis familiaris is sometimes used due to an ongoing nomenclature debate because wild and domestic animals are separately recognizable entities and that the ICZN allowed users a choice as to which name they could use, and a number of internationally recognized researchers prefer to use Canis familiaris.",
         "What official body recognizes both Canis lupus and Canis familiaris?",
         "{'text': ['ICZN'], 'answer_start': [13]}"
        ],
        [
         "7800",
         "56d4c13d2ccc5a1400d831d6",
         "Dog",
         "In 2003, the ICZN ruled in its Opinion 2027 that if wild animals and their domesticated derivatives are regarded as one species, then the scientific name of that species is the scientific name of the wild animal. In 2005, the third edition of Mammal Species of the World upheld Opinion 2027 with the name Lupus and the note: \"Includes the domestic dog as a subspecies, with the dingo provisionally separate - artificial variants created by domestication and selective breeding\". However, Canis familiaris is sometimes used due to an ongoing nomenclature debate because wild and domestic animals are separately recognizable entities and that the ICZN allowed users a choice as to which name they could use, and a number of internationally recognized researchers prefer to use Canis familiaris.",
         "Many researchers prefer what term?",
         "{'text': ['Canis familiaris.'], 'answer_start': [775]}"
        ],
        [
         "7801",
         "56d99b58dc89441400fdb5c2",
         "Dog",
         "In 2003, the ICZN ruled in its Opinion 2027 that if wild animals and their domesticated derivatives are regarded as one species, then the scientific name of that species is the scientific name of the wild animal. In 2005, the third edition of Mammal Species of the World upheld Opinion 2027 with the name Lupus and the note: \"Includes the domestic dog as a subspecies, with the dingo provisionally separate - artificial variants created by domestication and selective breeding\". However, Canis familiaris is sometimes used due to an ongoing nomenclature debate because wild and domestic animals are separately recognizable entities and that the ICZN allowed users a choice as to which name they could use, and a number of internationally recognized researchers prefer to use Canis familiaris.",
         "Who ruled in 2003 that scientific names for wild animals share the same scientific name as their domestic counterparts?",
         "{'text': ['ICZN'], 'answer_start': [13]}"
        ],
        [
         "7802",
         "56d99b58dc89441400fdb5c3",
         "Dog",
         "In 2003, the ICZN ruled in its Opinion 2027 that if wild animals and their domesticated derivatives are regarded as one species, then the scientific name of that species is the scientific name of the wild animal. In 2005, the third edition of Mammal Species of the World upheld Opinion 2027 with the name Lupus and the note: \"Includes the domestic dog as a subspecies, with the dingo provisionally separate - artificial variants created by domestication and selective breeding\". However, Canis familiaris is sometimes used due to an ongoing nomenclature debate because wild and domestic animals are separately recognizable entities and that the ICZN allowed users a choice as to which name they could use, and a number of internationally recognized researchers prefer to use Canis familiaris.",
         "What was this decision called?",
         "{'text': ['Opinion 2027'], 'answer_start': [31]}"
        ]
       ],
       "shape": {
        "columns": 5,
        "rows": 770
       }
      },
      "text/html": [
       "<div>\n",
       "<style scoped>\n",
       "    .dataframe tbody tr th:only-of-type {\n",
       "        vertical-align: middle;\n",
       "    }\n",
       "\n",
       "    .dataframe tbody tr th {\n",
       "        vertical-align: top;\n",
       "    }\n",
       "\n",
       "    .dataframe thead th {\n",
       "        text-align: right;\n",
       "    }\n",
       "</style>\n",
       "<table border=\"1\" class=\"dataframe\">\n",
       "  <thead>\n",
       "    <tr style=\"text-align: right;\">\n",
       "      <th></th>\n",
       "      <th>id</th>\n",
       "      <th>title</th>\n",
       "      <th>context</th>\n",
       "      <th>question</th>\n",
       "      <th>answers</th>\n",
       "    </tr>\n",
       "  </thead>\n",
       "  <tbody>\n",
       "    <tr>\n",
       "      <th>7753</th>\n",
       "      <td>56d47d7d2ccc5a1400d8314e</td>\n",
       "      <td>Dog</td>\n",
       "      <td>The domestic dog (Canis lupus familiaris or Ca...</td>\n",
       "      <td>What is the three word Latin name for domestic...</td>\n",
       "      <td>{'text': ['Canis lupus familiaris'], 'answer_s...</td>\n",
       "    </tr>\n",
       "    <tr>\n",
       "      <th>7754</th>\n",
       "      <td>56d99788dc89441400fdb580</td>\n",
       "      <td>Dog</td>\n",
       "      <td>The domestic dog (Canis lupus familiaris or Ca...</td>\n",
       "      <td>What is Canis familiaris?</td>\n",
       "      <td>{'text': ['domestic dog'], 'answer_start': [4]}</td>\n",
       "    </tr>\n",
       "    <tr>\n",
       "      <th>7755</th>\n",
       "      <td>56d99788dc89441400fdb581</td>\n",
       "      <td>Dog</td>\n",
       "      <td>The domestic dog (Canis lupus familiaris or Ca...</td>\n",
       "      <td>How long has the domestic dog been selectively...</td>\n",
       "      <td>{'text': ['millennia'], 'answer_start': [122]}</td>\n",
       "    </tr>\n",
       "    <tr>\n",
       "      <th>7756</th>\n",
       "      <td>56d99788dc89441400fdb582</td>\n",
       "      <td>Dog</td>\n",
       "      <td>The domestic dog (Canis lupus familiaris or Ca...</td>\n",
       "      <td>Along with various behaviors and physical attr...</td>\n",
       "      <td>{'text': ['sensory capabilities'], 'answer_sta...</td>\n",
       "    </tr>\n",
       "    <tr>\n",
       "      <th>7757</th>\n",
       "      <td>56d4a7a72ccc5a1400d83168</td>\n",
       "      <td>Dog</td>\n",
       "      <td>Although initially thought to have originated ...</td>\n",
       "      <td>What decade had significant studies of dog gen...</td>\n",
       "      <td>{'text': ['2010s'], 'answer_start': [212]}</td>\n",
       "    </tr>\n",
       "    <tr>\n",
       "      <th>...</th>\n",
       "      <td>...</td>\n",
       "      <td>...</td>\n",
       "      <td>...</td>\n",
       "      <td>...</td>\n",
       "      <td>...</td>\n",
       "    </tr>\n",
       "    <tr>\n",
       "      <th>95194</th>\n",
       "      <td>56d9b546dc89441400fdb715_aug</td>\n",
       "      <td>Dog</td>\n",
       "      <td>In developing countries, the majority of dogs ...</td>\n",
       "      <td>Dog cognition has been studied on what kind of...</td>\n",
       "      <td>{'text': ['pet dogs living in human homes.'], ...</td>\n",
       "    </tr>\n",
       "    <tr>\n",
       "      <th>95195</th>\n",
       "      <td>56d9c243dc89441400fdb7aa_aug</td>\n",
       "      <td>Dog</td>\n",
       "      <td>Wolves, and their dog descendants, would have ...</td>\n",
       "      <td>What would wolves have gotten from living with...</td>\n",
       "      <td>{'text': ['significant benefits'], 'answer_sta...</td>\n",
       "    </tr>\n",
       "    <tr>\n",
       "      <th>95196</th>\n",
       "      <td>56d9c649dc89441400fdb7e3_aug</td>\n",
       "      <td>Dog</td>\n",
       "      <td>Dogs and humans might have been able to coexis...</td>\n",
       "      <td>What has likely led to human success?</td>\n",
       "      <td>{'text': ['the domestication of dogs'], 'answe...</td>\n",
       "    </tr>\n",
       "    <tr>\n",
       "      <th>95197</th>\n",
       "      <td>56d9d357dc89441400fdb860_aug</td>\n",
       "      <td>Dog</td>\n",
       "      <td>There is mixed scientific evidence as to wheth...</td>\n",
       "      <td>Studies that people are better off with dogs h...</td>\n",
       "      <td>{'text': ['poorly controlled'], 'answer_start'...</td>\n",
       "    </tr>\n",
       "    <tr>\n",
       "      <th>95198</th>\n",
       "      <td>56d9d357dc89441400fdb861_aug</td>\n",
       "      <td>Dog</td>\n",
       "      <td>However, the scientific evidence is mixed as t...</td>\n",
       "      <td>People who have cats or dogs make fewer visits...</td>\n",
       "      <td>{'text': ['to the doctor'], 'answer_start': [3...</td>\n",
       "    </tr>\n",
       "  </tbody>\n",
       "</table>\n",
       "<p>770 rows × 5 columns</p>\n",
       "</div>"
      ],
      "text/plain": [
       "                                 id title  \\\n",
       "7753       56d47d7d2ccc5a1400d8314e   Dog   \n",
       "7754       56d99788dc89441400fdb580   Dog   \n",
       "7755       56d99788dc89441400fdb581   Dog   \n",
       "7756       56d99788dc89441400fdb582   Dog   \n",
       "7757       56d4a7a72ccc5a1400d83168   Dog   \n",
       "...                             ...   ...   \n",
       "95194  56d9b546dc89441400fdb715_aug   Dog   \n",
       "95195  56d9c243dc89441400fdb7aa_aug   Dog   \n",
       "95196  56d9c649dc89441400fdb7e3_aug   Dog   \n",
       "95197  56d9d357dc89441400fdb860_aug   Dog   \n",
       "95198  56d9d357dc89441400fdb861_aug   Dog   \n",
       "\n",
       "                                                 context  \\\n",
       "7753   The domestic dog (Canis lupus familiaris or Ca...   \n",
       "7754   The domestic dog (Canis lupus familiaris or Ca...   \n",
       "7755   The domestic dog (Canis lupus familiaris or Ca...   \n",
       "7756   The domestic dog (Canis lupus familiaris or Ca...   \n",
       "7757   Although initially thought to have originated ...   \n",
       "...                                                  ...   \n",
       "95194  In developing countries, the majority of dogs ...   \n",
       "95195  Wolves, and their dog descendants, would have ...   \n",
       "95196  Dogs and humans might have been able to coexis...   \n",
       "95197  There is mixed scientific evidence as to wheth...   \n",
       "95198  However, the scientific evidence is mixed as t...   \n",
       "\n",
       "                                                question  \\\n",
       "7753   What is the three word Latin name for domestic...   \n",
       "7754                           What is Canis familiaris?   \n",
       "7755   How long has the domestic dog been selectively...   \n",
       "7756   Along with various behaviors and physical attr...   \n",
       "7757   What decade had significant studies of dog gen...   \n",
       "...                                                  ...   \n",
       "95194  Dog cognition has been studied on what kind of...   \n",
       "95195  What would wolves have gotten from living with...   \n",
       "95196              What has likely led to human success?   \n",
       "95197  Studies that people are better off with dogs h...   \n",
       "95198  People who have cats or dogs make fewer visits...   \n",
       "\n",
       "                                                 answers  \n",
       "7753   {'text': ['Canis lupus familiaris'], 'answer_s...  \n",
       "7754     {'text': ['domestic dog'], 'answer_start': [4]}  \n",
       "7755      {'text': ['millennia'], 'answer_start': [122]}  \n",
       "7756   {'text': ['sensory capabilities'], 'answer_sta...  \n",
       "7757          {'text': ['2010s'], 'answer_start': [212]}  \n",
       "...                                                  ...  \n",
       "95194  {'text': ['pet dogs living in human homes.'], ...  \n",
       "95195  {'text': ['significant benefits'], 'answer_sta...  \n",
       "95196  {'text': ['the domestication of dogs'], 'answe...  \n",
       "95197  {'text': ['poorly controlled'], 'answer_start'...  \n",
       "95198  {'text': ['to the doctor'], 'answer_start': [3...  \n",
       "\n",
       "[770 rows x 5 columns]"
      ]
     },
     "execution_count": 4,
     "metadata": {},
     "output_type": "execute_result"
    }
   ],
   "source": [
    "df[df['title'] == 'Dog']"
   ]
  },
  {
   "cell_type": "code",
   "execution_count": 5,
   "id": "6c519be3",
   "metadata": {},
   "outputs": [],
   "source": [
    "# df = df.head(10000)\n",
    "# df = df[df['title'] == \"New_York_City\"].copy()\n",
    "df = df[df['title'] == 'Dog'].copy()\n",
    "df = df.reset_index(drop=True)\n",
    "titles = df[\"title\"].tolist()\n",
    "questions = df[\"question\"].tolist()"
   ]
  },
  {
   "cell_type": "code",
   "execution_count": 6,
   "id": "f3a49b87",
   "metadata": {},
   "outputs": [
    {
     "data": {
      "application/vnd.jupyter.widget-view+json": {
       "model_id": "c0ff47517b5a47b78dddd5f4724d344b",
       "version_major": 2,
       "version_minor": 0
      },
      "text/plain": [
       "Batches:   0%|          | 0/25 [00:00<?, ?it/s]"
      ]
     },
     "metadata": {},
     "output_type": "display_data"
    }
   ],
   "source": [
    "question_embeddings_sbert = model.encode(questions, show_progress_bar=True)\n",
    "\n"
   ]
  },
  {
   "cell_type": "code",
   "execution_count": 7,
   "id": "90aad90b",
   "metadata": {},
   "outputs": [
    {
     "data": {
      "application/vnd.microsoft.datawrangler.viewer.v0+json": {
       "columns": [
        {
         "name": "index",
         "rawType": "int64",
         "type": "integer"
        },
        {
         "name": "id",
         "rawType": "object",
         "type": "string"
        },
        {
         "name": "title",
         "rawType": "object",
         "type": "string"
        },
        {
         "name": "context",
         "rawType": "object",
         "type": "string"
        },
        {
         "name": "question",
         "rawType": "object",
         "type": "string"
        },
        {
         "name": "answers",
         "rawType": "object",
         "type": "string"
        }
       ],
       "conversionMethod": "pd.DataFrame",
       "ref": "c365099d-8179-4621-84f3-f1cd38f56cc9",
       "rows": [
        [
         "0",
         "56d47d7d2ccc5a1400d8314e",
         "Dog",
         "The domestic dog (Canis lupus familiaris or Canis familiaris) is a domesticated canid which has been selectively bred for millennia for various behaviors, sensory capabilities, and physical attributes.",
         "What is the three word Latin name for domesticated dogs?",
         "{'text': ['Canis lupus familiaris'], 'answer_start': [18]}"
        ],
        [
         "1",
         "56d99788dc89441400fdb580",
         "Dog",
         "The domestic dog (Canis lupus familiaris or Canis familiaris) is a domesticated canid which has been selectively bred for millennia for various behaviors, sensory capabilities, and physical attributes.",
         "What is Canis familiaris?",
         "{'text': ['domestic dog'], 'answer_start': [4]}"
        ],
        [
         "2",
         "56d99788dc89441400fdb581",
         "Dog",
         "The domestic dog (Canis lupus familiaris or Canis familiaris) is a domesticated canid which has been selectively bred for millennia for various behaviors, sensory capabilities, and physical attributes.",
         "How long has the domestic dog been selectively bred?",
         "{'text': ['millennia'], 'answer_start': [122]}"
        ],
        [
         "3",
         "56d99788dc89441400fdb582",
         "Dog",
         "The domestic dog (Canis lupus familiaris or Canis familiaris) is a domesticated canid which has been selectively bred for millennia for various behaviors, sensory capabilities, and physical attributes.",
         "Along with various behaviors and physical attributes, what were domestic dogs bred for?",
         "{'text': ['sensory capabilities'], 'answer_start': [155]}"
        ],
        [
         "4",
         "56d4a7a72ccc5a1400d83168",
         "Dog",
         "Although initially thought to have originated as a manmade variant of an extant canid species (variously supposed as being the dhole, golden jackal, or gray wolf), extensive genetic studies undertaken during the 2010s indicate that dogs diverged from an extinct wolf-like canid in Eurasia 40,000 years ago. Being the oldest domesticated animal, their long association with people has allowed dogs to be uniquely attuned to human behavior, as well as thrive on a starch-rich diet which would be inadequate for other canid species.",
         "What decade had significant studies of dog genes to determine origins?",
         "{'text': ['2010s'], 'answer_start': [212]}"
        ],
        [
         "5",
         "56d4a7a72ccc5a1400d83169",
         "Dog",
         "Although initially thought to have originated as a manmade variant of an extant canid species (variously supposed as being the dhole, golden jackal, or gray wolf), extensive genetic studies undertaken during the 2010s indicate that dogs diverged from an extinct wolf-like canid in Eurasia 40,000 years ago. Being the oldest domesticated animal, their long association with people has allowed dogs to be uniquely attuned to human behavior, as well as thrive on a starch-rich diet which would be inadequate for other canid species.",
         "Testing revealed today's dogs trace back by how many years?",
         "{'text': ['40,000'], 'answer_start': [289]}"
        ],
        [
         "6",
         "56d4a7a72ccc5a1400d8316a",
         "Dog",
         "Although initially thought to have originated as a manmade variant of an extant canid species (variously supposed as being the dhole, golden jackal, or gray wolf), extensive genetic studies undertaken during the 2010s indicate that dogs diverged from an extinct wolf-like canid in Eurasia 40,000 years ago. Being the oldest domesticated animal, their long association with people has allowed dogs to be uniquely attuned to human behavior, as well as thrive on a starch-rich diet which would be inadequate for other canid species.",
         "What is the region where domesticated dogs ancestry traces to?",
         "{'text': ['Eurasia'], 'answer_start': [281]}"
        ],
        [
         "7",
         "56d4a7a72ccc5a1400d8316b",
         "Dog",
         "Although initially thought to have originated as a manmade variant of an extant canid species (variously supposed as being the dhole, golden jackal, or gray wolf), extensive genetic studies undertaken during the 2010s indicate that dogs diverged from an extinct wolf-like canid in Eurasia 40,000 years ago. Being the oldest domesticated animal, their long association with people has allowed dogs to be uniquely attuned to human behavior, as well as thrive on a starch-rich diet which would be inadequate for other canid species.",
         "What type of diet can modern domesticated dogs thrive eating that other dogs cannot?",
         "{'text': ['starch-rich'], 'answer_start': [462]}"
        ],
        [
         "8",
         "56d997d0dc89441400fdb590",
         "Dog",
         "Although initially thought to have originated as a manmade variant of an extant canid species (variously supposed as being the dhole, golden jackal, or gray wolf), extensive genetic studies undertaken during the 2010s indicate that dogs diverged from an extinct wolf-like canid in Eurasia 40,000 years ago. Being the oldest domesticated animal, their long association with people has allowed dogs to be uniquely attuned to human behavior, as well as thrive on a starch-rich diet which would be inadequate for other canid species.",
         "What was undertaken in 2010 to determine where dogs originated from?",
         "{'text': ['extensive genetic studies'], 'answer_start': [164]}"
        ],
        [
         "9",
         "56d4bb172ccc5a1400d83186",
         "Dog",
         "Dogs perform many roles for people, such as hunting, herding, pulling loads, protection, assisting police and military, companionship, and, more recently, aiding handicapped individuals. This impact on human society has given them the nickname \"man's best friend\" in the Western world. In some cultures, however, dogs are a source of meat.",
         "What is the most common phrase, or nickname, used by people in the United States to describe dogs in general?",
         "{'text': [\"man's best friend\"], 'answer_start': [245]}"
        ],
        [
         "10",
         "56d9984fdc89441400fdb592",
         "Dog",
         "Dogs perform many roles for people, such as hunting, herding, pulling loads, protection, assisting police and military, companionship, and, more recently, aiding handicapped individuals. This impact on human society has given them the nickname \"man's best friend\" in the Western world. In some cultures, however, dogs are a source of meat.",
         "What moniker has been given to dogs in Western cultures?",
         "{'text': [\"man's best friend\"], 'answer_start': [245]}"
        ],
        [
         "11",
         "56d9984fdc89441400fdb593",
         "Dog",
         "Dogs perform many roles for people, such as hunting, herding, pulling loads, protection, assisting police and military, companionship, and, more recently, aiding handicapped individuals. This impact on human society has given them the nickname \"man's best friend\" in the Western world. In some cultures, however, dogs are a source of meat.",
         "Dogs are a source of what in some cultures?",
         "{'text': ['meat'], 'answer_start': [334]}"
        ],
        [
         "12",
         "56d4bc242ccc5a1400d8318b",
         "Dog",
         "The term \"domestic dog\" is generally used for both of the domesticated and feral varieties. The English word dog comes from Middle English dogge, from Old English docga, a \"powerful dog breed\". The term may possibly derive from Proto-Germanic *dukkōn, represented in Old English finger-docce (\"finger-muscle\"). The word also shows the familiar petname diminutive -ga also seen in frogga \"frog\", picga \"pig\", stagga \"stag\", wicga \"beetle, worm\", among others. The term dog may ultimately derive from the earliest layer of Proto-Indo-European vocabulary.",
         "What is the Proto-Germanic word that \"dog\" may have come from?",
         "{'text': ['dukkōn'], 'answer_start': [244]}"
        ],
        [
         "13",
         "56d4bc242ccc5a1400d8318c",
         "Dog",
         "The term \"domestic dog\" is generally used for both of the domesticated and feral varieties. The English word dog comes from Middle English dogge, from Old English docga, a \"powerful dog breed\". The term may possibly derive from Proto-Germanic *dukkōn, represented in Old English finger-docce (\"finger-muscle\"). The word also shows the familiar petname diminutive -ga also seen in frogga \"frog\", picga \"pig\", stagga \"stag\", wicga \"beetle, worm\", among others. The term dog may ultimately derive from the earliest layer of Proto-Indo-European vocabulary.",
         "What may be the earliest vocabulary that the word \"dog\" came from?",
         "{'text': ['Proto-Indo-European'], 'answer_start': [521]}"
        ],
        [
         "14",
         "56d998c8dc89441400fdb597",
         "Dog",
         "The term \"domestic dog\" is generally used for both of the domesticated and feral varieties. The English word dog comes from Middle English dogge, from Old English docga, a \"powerful dog breed\". The term may possibly derive from Proto-Germanic *dukkōn, represented in Old English finger-docce (\"finger-muscle\"). The word also shows the familiar petname diminutive -ga also seen in frogga \"frog\", picga \"pig\", stagga \"stag\", wicga \"beetle, worm\", among others. The term dog may ultimately derive from the earliest layer of Proto-Indo-European vocabulary.",
         "Where does the word dog originate?",
         "{'text': ['Old English docga'], 'answer_start': [151]}"
        ],
        [
         "15",
         "56d998c8dc89441400fdb598",
         "Dog",
         "The term \"domestic dog\" is generally used for both of the domesticated and feral varieties. The English word dog comes from Middle English dogge, from Old English docga, a \"powerful dog breed\". The term may possibly derive from Proto-Germanic *dukkōn, represented in Old English finger-docce (\"finger-muscle\"). The word also shows the familiar petname diminutive -ga also seen in frogga \"frog\", picga \"pig\", stagga \"stag\", wicga \"beetle, worm\", among others. The term dog may ultimately derive from the earliest layer of Proto-Indo-European vocabulary.",
         "Dog could also come from the original layer of what vocabulary?",
         "{'text': ['Proto-Indo-European'], 'answer_start': [521]}"
        ],
        [
         "16",
         "56d4bcef2ccc5a1400d8319a",
         "Dog",
         "In 14th-century England, hound (from Old English: hund) was the general word for all domestic canines, and dog referred to a subtype of hound, a group including the mastiff. It is believed this \"dog\" type was so common, it eventually became the prototype of the category \"hound\". By the 16th century, dog had become the general word, and hound had begun to refer only to types used for hunting. The word \"hound\" is ultimately derived from the Proto-Indo-European word *kwon- \"dog\".",
         "What was the common 14th-century word for dogs for those who spoke English?",
         "{'text': ['hound'], 'answer_start': [25]}"
        ],
        [
         "17",
         "56d4bcef2ccc5a1400d8319b",
         "Dog",
         "In 14th-century England, hound (from Old English: hund) was the general word for all domestic canines, and dog referred to a subtype of hound, a group including the mastiff. It is believed this \"dog\" type was so common, it eventually became the prototype of the category \"hound\". By the 16th century, dog had become the general word, and hound had begun to refer only to types used for hunting. The word \"hound\" is ultimately derived from the Proto-Indo-European word *kwon- \"dog\".",
         "What breed was so prolific it became a prototype of hound?",
         "{'text': ['mastiff.'], 'answer_start': [165]}"
        ],
        [
         "18",
         "56d4bcef2ccc5a1400d8319c",
         "Dog",
         "In 14th-century England, hound (from Old English: hund) was the general word for all domestic canines, and dog referred to a subtype of hound, a group including the mastiff. It is believed this \"dog\" type was so common, it eventually became the prototype of the category \"hound\". By the 16th century, dog had become the general word, and hound had begun to refer only to types used for hunting. The word \"hound\" is ultimately derived from the Proto-Indo-European word *kwon- \"dog\".",
         "In what century did \"hound\" start to only apply to hunting dogs?",
         "{'text': ['16th'], 'answer_start': [287]}"
        ],
        [
         "19",
         "56d99962dc89441400fdb5a6",
         "Dog",
         "In 14th-century England, hound (from Old English: hund) was the general word for all domestic canines, and dog referred to a subtype of hound, a group including the mastiff. It is believed this \"dog\" type was so common, it eventually became the prototype of the category \"hound\". By the 16th century, dog had become the general word, and hound had begun to refer only to types used for hunting. The word \"hound\" is ultimately derived from the Proto-Indo-European word *kwon- \"dog\".",
         "What was the common term for all domesticated dogs in England during the 14th century?",
         "{'text': ['hound'], 'answer_start': [25]}"
        ],
        [
         "20",
         "56d99962dc89441400fdb5a7",
         "Dog",
         "In 14th-century England, hound (from Old English: hund) was the general word for all domestic canines, and dog referred to a subtype of hound, a group including the mastiff. It is believed this \"dog\" type was so common, it eventually became the prototype of the category \"hound\". By the 16th century, dog had become the general word, and hound had begun to refer only to types used for hunting. The word \"hound\" is ultimately derived from the Proto-Indo-European word *kwon- \"dog\".",
         "When did the word dog become the common term for canines?",
         "{'text': ['16th century'], 'answer_start': [287]}"
        ],
        [
         "21",
         "56d99962dc89441400fdb5a8",
         "Dog",
         "In 14th-century England, hound (from Old English: hund) was the general word for all domestic canines, and dog referred to a subtype of hound, a group including the mastiff. It is believed this \"dog\" type was so common, it eventually became the prototype of the category \"hound\". By the 16th century, dog had become the general word, and hound had begun to refer only to types used for hunting. The word \"hound\" is ultimately derived from the Proto-Indo-European word *kwon- \"dog\".",
         "Hound became the term for dogs who did what activity during this time?",
         "{'text': ['hunting'], 'answer_start': [386]}"
        ],
        [
         "22",
         "56d99962dc89441400fdb5a9",
         "Dog",
         "In 14th-century England, hound (from Old English: hund) was the general word for all domestic canines, and dog referred to a subtype of hound, a group including the mastiff. It is believed this \"dog\" type was so common, it eventually became the prototype of the category \"hound\". By the 16th century, dog had become the general word, and hound had begun to refer only to types used for hunting. The word \"hound\" is ultimately derived from the Proto-Indo-European word *kwon- \"dog\".",
         "What Proto-Indo-European word is hound from?",
         "{'text': ['*kwon- \"dog\"'], 'answer_start': [468]}"
        ],
        [
         "23",
         "56d4bdcd2ccc5a1400d831aa",
         "Dog",
         "In breeding circles, a male canine is referred to as a dog, while a female is called a bitch (Middle English bicche, from Old English bicce, ultimately from Old Norse bikkja). A group of offspring is a litter. The father of a litter is called the sire, and the mother is called the dam. Offspring are, in general, called pups or puppies, from French poupée, until they are about a year old. The process of birth is whelping, from the Old English word hwelp.",
         "What are a single birth group of puppies of a dog called collectively?",
         "{'text': ['a litter.'], 'answer_start': [200]}"
        ],
        [
         "24",
         "56d4bdcd2ccc5a1400d831ab",
         "Dog",
         "In breeding circles, a male canine is referred to as a dog, while a female is called a bitch (Middle English bicche, from Old English bicce, ultimately from Old Norse bikkja). A group of offspring is a litter. The father of a litter is called the sire, and the mother is called the dam. Offspring are, in general, called pups or puppies, from French poupée, until they are about a year old. The process of birth is whelping, from the Old English word hwelp.",
         "What is the male who is father of the pups called?",
         "{'text': ['sire'], 'answer_start': [247]}"
        ],
        [
         "25",
         "56d4bdcd2ccc5a1400d831ac",
         "Dog",
         "In breeding circles, a male canine is referred to as a dog, while a female is called a bitch (Middle English bicche, from Old English bicce, ultimately from Old Norse bikkja). A group of offspring is a litter. The father of a litter is called the sire, and the mother is called the dam. Offspring are, in general, called pups or puppies, from French poupée, until they are about a year old. The process of birth is whelping, from the Old English word hwelp.",
         "What is the French word that \"puppy\" comes from?",
         "{'text': ['poupée'], 'answer_start': [350]}"
        ],
        [
         "26",
         "56d4bdcd2ccc5a1400d831ad",
         "Dog",
         "In breeding circles, a male canine is referred to as a dog, while a female is called a bitch (Middle English bicche, from Old English bicce, ultimately from Old Norse bikkja). A group of offspring is a litter. The father of a litter is called the sire, and the mother is called the dam. Offspring are, in general, called pups or puppies, from French poupée, until they are about a year old. The process of birth is whelping, from the Old English word hwelp.",
         "What is giving birth to dogs called?",
         "{'text': ['whelping'], 'answer_start': [415]}"
        ],
        [
         "27",
         "56d4bdcd2ccc5a1400d831ae",
         "Dog",
         "In breeding circles, a male canine is referred to as a dog, while a female is called a bitch (Middle English bicche, from Old English bicce, ultimately from Old Norse bikkja). A group of offspring is a litter. The father of a litter is called the sire, and the mother is called the dam. Offspring are, in general, called pups or puppies, from French poupée, until they are about a year old. The process of birth is whelping, from the Old English word hwelp.",
         "What is the English word for female dog that has also become profanity?",
         "{'text': ['bitch'], 'answer_start': [87]}"
        ],
        [
         "28",
         "56d999dcdc89441400fdb5ae",
         "Dog",
         "In breeding circles, a male canine is referred to as a dog, while a female is called a bitch (Middle English bicche, from Old English bicce, ultimately from Old Norse bikkja). A group of offspring is a litter. The father of a litter is called the sire, and the mother is called the dam. Offspring are, in general, called pups or puppies, from French poupée, until they are about a year old. The process of birth is whelping, from the Old English word hwelp.",
         "A male canine is called a dog while a female canine is called a what in reference to breeding?",
         "{'text': ['bitch'], 'answer_start': [87]}"
        ],
        [
         "29",
         "56d999dcdc89441400fdb5af",
         "Dog",
         "In breeding circles, a male canine is referred to as a dog, while a female is called a bitch (Middle English bicche, from Old English bicce, ultimately from Old Norse bikkja). A group of offspring is a litter. The father of a litter is called the sire, and the mother is called the dam. Offspring are, in general, called pups or puppies, from French poupée, until they are about a year old. The process of birth is whelping, from the Old English word hwelp.",
         "What are canine offspring referred as?",
         "{'text': ['litter'], 'answer_start': [202]}"
        ],
        [
         "30",
         "56d999dcdc89441400fdb5b0",
         "Dog",
         "In breeding circles, a male canine is referred to as a dog, while a female is called a bitch (Middle English bicche, from Old English bicce, ultimately from Old Norse bikkja). A group of offspring is a litter. The father of a litter is called the sire, and the mother is called the dam. Offspring are, in general, called pups or puppies, from French poupée, until they are about a year old. The process of birth is whelping, from the Old English word hwelp.",
         "What is the father of a litter referred as?",
         "{'text': ['sire'], 'answer_start': [247]}"
        ],
        [
         "31",
         "56d999dcdc89441400fdb5b1",
         "Dog",
         "In breeding circles, a male canine is referred to as a dog, while a female is called a bitch (Middle English bicche, from Old English bicce, ultimately from Old Norse bikkja). A group of offspring is a litter. The father of a litter is called the sire, and the mother is called the dam. Offspring are, in general, called pups or puppies, from French poupée, until they are about a year old. The process of birth is whelping, from the Old English word hwelp.",
         "What is the mother of a litter referred as?",
         "{'text': ['dam'], 'answer_start': [282]}"
        ],
        [
         "32",
         "56d999dcdc89441400fdb5b2",
         "Dog",
         "In breeding circles, a male canine is referred to as a dog, while a female is called a bitch (Middle English bicche, from Old English bicce, ultimately from Old Norse bikkja). A group of offspring is a litter. The father of a litter is called the sire, and the mother is called the dam. Offspring are, in general, called pups or puppies, from French poupée, until they are about a year old. The process of birth is whelping, from the Old English word hwelp.",
         "What are the individual litter canines called?",
         "{'text': ['pups'], 'answer_start': [321]}"
        ],
        [
         "33",
         "56d4befa2ccc5a1400d831b4",
         "Dog",
         "In 1758, the taxonomist Linnaeus published in Systema Naturae a categorization of species which included the Canis species. Canis is a Latin word meaning dog, and the list included the dog-like carnivores: the domestic dog, wolves, foxes and jackals. The dog was classified as Canis familiaris, which means \"Dog-family\" or the family dog. On the next page he recorded the wolf as Canis lupus, which means \"Dog-wolf\". In 1978, a review aimed at reducing the number of recognized Canis species proposed that \"Canis dingo is now generally regarded as a distinctive feral domestic dog. Canis familiaris is used for domestic dogs, although taxonomically it should probably be synonymous with Canis lupus.\" In 1982, the first edition of Mammal Species of the World listed Canis familiaris under Canis lupus with the comment: \"Probably ancestor of and conspecific with the domestic dog, familiaris. Canis familiaris has page priority over Canis lupus, but both were published simultaneously in Linnaeus (1758), and Canis lupus has been universally used for this species\", which avoided classifying the wolf as the family dog. The dog is now listed among the many other Latin-named subspecies of Canis lupus as Canis lupus familiaris.",
         "What is the Latin term for \"dog.?\"",
         "{'text': ['Canis'], 'answer_start': [109]}"
        ],
        [
         "34",
         "56d4befa2ccc5a1400d831b5",
         "Dog",
         "In 1758, the taxonomist Linnaeus published in Systema Naturae a categorization of species which included the Canis species. Canis is a Latin word meaning dog, and the list included the dog-like carnivores: the domestic dog, wolves, foxes and jackals. The dog was classified as Canis familiaris, which means \"Dog-family\" or the family dog. On the next page he recorded the wolf as Canis lupus, which means \"Dog-wolf\". In 1978, a review aimed at reducing the number of recognized Canis species proposed that \"Canis dingo is now generally regarded as a distinctive feral domestic dog. Canis familiaris is used for domestic dogs, although taxonomically it should probably be synonymous with Canis lupus.\" In 1982, the first edition of Mammal Species of the World listed Canis familiaris under Canis lupus with the comment: \"Probably ancestor of and conspecific with the domestic dog, familiaris. Canis familiaris has page priority over Canis lupus, but both were published simultaneously in Linnaeus (1758), and Canis lupus has been universally used for this species\", which avoided classifying the wolf as the family dog. The dog is now listed among the many other Latin-named subspecies of Canis lupus as Canis lupus familiaris.",
         "What year are dogs first listed in Systema Naturae?",
         "{'text': ['1758'], 'answer_start': [3]}"
        ],
        [
         "35",
         "56d4befa2ccc5a1400d831b6",
         "Dog",
         "In 1758, the taxonomist Linnaeus published in Systema Naturae a categorization of species which included the Canis species. Canis is a Latin word meaning dog, and the list included the dog-like carnivores: the domestic dog, wolves, foxes and jackals. The dog was classified as Canis familiaris, which means \"Dog-family\" or the family dog. On the next page he recorded the wolf as Canis lupus, which means \"Dog-wolf\". In 1978, a review aimed at reducing the number of recognized Canis species proposed that \"Canis dingo is now generally regarded as a distinctive feral domestic dog. Canis familiaris is used for domestic dogs, although taxonomically it should probably be synonymous with Canis lupus.\" In 1982, the first edition of Mammal Species of the World listed Canis familiaris under Canis lupus with the comment: \"Probably ancestor of and conspecific with the domestic dog, familiaris. Canis familiaris has page priority over Canis lupus, but both were published simultaneously in Linnaeus (1758), and Canis lupus has been universally used for this species\", which avoided classifying the wolf as the family dog. The dog is now listed among the many other Latin-named subspecies of Canis lupus as Canis lupus familiaris.",
         "Who published Systema Naturae?",
         "{'text': ['Linnaeus'], 'answer_start': [24]}"
        ],
        [
         "36",
         "56d4befa2ccc5a1400d831b7",
         "Dog",
         "In 1758, the taxonomist Linnaeus published in Systema Naturae a categorization of species which included the Canis species. Canis is a Latin word meaning dog, and the list included the dog-like carnivores: the domestic dog, wolves, foxes and jackals. The dog was classified as Canis familiaris, which means \"Dog-family\" or the family dog. On the next page he recorded the wolf as Canis lupus, which means \"Dog-wolf\". In 1978, a review aimed at reducing the number of recognized Canis species proposed that \"Canis dingo is now generally regarded as a distinctive feral domestic dog. Canis familiaris is used for domestic dogs, although taxonomically it should probably be synonymous with Canis lupus.\" In 1982, the first edition of Mammal Species of the World listed Canis familiaris under Canis lupus with the comment: \"Probably ancestor of and conspecific with the domestic dog, familiaris. Canis familiaris has page priority over Canis lupus, but both were published simultaneously in Linnaeus (1758), and Canis lupus has been universally used for this species\", which avoided classifying the wolf as the family dog. The dog is now listed among the many other Latin-named subspecies of Canis lupus as Canis lupus familiaris.",
         "What is the modern single English word for Canis lupus?",
         "{'text': ['wolf'], 'answer_start': [372]}"
        ],
        [
         "37",
         "56d4befa2ccc5a1400d831b8",
         "Dog",
         "In 1758, the taxonomist Linnaeus published in Systema Naturae a categorization of species which included the Canis species. Canis is a Latin word meaning dog, and the list included the dog-like carnivores: the domestic dog, wolves, foxes and jackals. The dog was classified as Canis familiaris, which means \"Dog-family\" or the family dog. On the next page he recorded the wolf as Canis lupus, which means \"Dog-wolf\". In 1978, a review aimed at reducing the number of recognized Canis species proposed that \"Canis dingo is now generally regarded as a distinctive feral domestic dog. Canis familiaris is used for domestic dogs, although taxonomically it should probably be synonymous with Canis lupus.\" In 1982, the first edition of Mammal Species of the World listed Canis familiaris under Canis lupus with the comment: \"Probably ancestor of and conspecific with the domestic dog, familiaris. Canis familiaris has page priority over Canis lupus, but both were published simultaneously in Linnaeus (1758), and Canis lupus has been universally used for this species\", which avoided classifying the wolf as the family dog. The dog is now listed among the many other Latin-named subspecies of Canis lupus as Canis lupus familiaris.",
         "What 1982 publication listed regular family dogs under wolves?",
         "{'text': ['Mammal Species of the World'], 'answer_start': [731]}"
        ],
        [
         "38",
         "56d99aa4dc89441400fdb5b8",
         "Dog",
         "In 1758, the taxonomist Linnaeus published in Systema Naturae a categorization of species which included the Canis species. Canis is a Latin word meaning dog, and the list included the dog-like carnivores: the domestic dog, wolves, foxes and jackals. The dog was classified as Canis familiaris, which means \"Dog-family\" or the family dog. On the next page he recorded the wolf as Canis lupus, which means \"Dog-wolf\". In 1978, a review aimed at reducing the number of recognized Canis species proposed that \"Canis dingo is now generally regarded as a distinctive feral domestic dog. Canis familiaris is used for domestic dogs, although taxonomically it should probably be synonymous with Canis lupus.\" In 1982, the first edition of Mammal Species of the World listed Canis familiaris under Canis lupus with the comment: \"Probably ancestor of and conspecific with the domestic dog, familiaris. Canis familiaris has page priority over Canis lupus, but both were published simultaneously in Linnaeus (1758), and Canis lupus has been universally used for this species\", which avoided classifying the wolf as the family dog. The dog is now listed among the many other Latin-named subspecies of Canis lupus as Canis lupus familiaris.",
         "What is the Latin word for dog?",
         "{'text': ['Canis'], 'answer_start': [109]}"
        ],
        [
         "39",
         "56d99aa4dc89441400fdb5b9",
         "Dog",
         "In 1758, the taxonomist Linnaeus published in Systema Naturae a categorization of species which included the Canis species. Canis is a Latin word meaning dog, and the list included the dog-like carnivores: the domestic dog, wolves, foxes and jackals. The dog was classified as Canis familiaris, which means \"Dog-family\" or the family dog. On the next page he recorded the wolf as Canis lupus, which means \"Dog-wolf\". In 1978, a review aimed at reducing the number of recognized Canis species proposed that \"Canis dingo is now generally regarded as a distinctive feral domestic dog. Canis familiaris is used for domestic dogs, although taxonomically it should probably be synonymous with Canis lupus.\" In 1982, the first edition of Mammal Species of the World listed Canis familiaris under Canis lupus with the comment: \"Probably ancestor of and conspecific with the domestic dog, familiaris. Canis familiaris has page priority over Canis lupus, but both were published simultaneously in Linnaeus (1758), and Canis lupus has been universally used for this species\", which avoided classifying the wolf as the family dog. The dog is now listed among the many other Latin-named subspecies of Canis lupus as Canis lupus familiaris.",
         "Canis familiaris is the classification for dogs, and is known as what?",
         "{'text': ['family dog'], 'answer_start': [327]}"
        ],
        [
         "40",
         "56d99aa4dc89441400fdb5ba",
         "Dog",
         "In 1758, the taxonomist Linnaeus published in Systema Naturae a categorization of species which included the Canis species. Canis is a Latin word meaning dog, and the list included the dog-like carnivores: the domestic dog, wolves, foxes and jackals. The dog was classified as Canis familiaris, which means \"Dog-family\" or the family dog. On the next page he recorded the wolf as Canis lupus, which means \"Dog-wolf\". In 1978, a review aimed at reducing the number of recognized Canis species proposed that \"Canis dingo is now generally regarded as a distinctive feral domestic dog. Canis familiaris is used for domestic dogs, although taxonomically it should probably be synonymous with Canis lupus.\" In 1982, the first edition of Mammal Species of the World listed Canis familiaris under Canis lupus with the comment: \"Probably ancestor of and conspecific with the domestic dog, familiaris. Canis familiaris has page priority over Canis lupus, but both were published simultaneously in Linnaeus (1758), and Canis lupus has been universally used for this species\", which avoided classifying the wolf as the family dog. The dog is now listed among the many other Latin-named subspecies of Canis lupus as Canis lupus familiaris.",
         "What is the Latin name for a wolf?",
         "{'text': ['Canis lupus'], 'answer_start': [380]}"
        ],
        [
         "41",
         "56d99aa4dc89441400fdb5bb",
         "Dog",
         "In 1758, the taxonomist Linnaeus published in Systema Naturae a categorization of species which included the Canis species. Canis is a Latin word meaning dog, and the list included the dog-like carnivores: the domestic dog, wolves, foxes and jackals. The dog was classified as Canis familiaris, which means \"Dog-family\" or the family dog. On the next page he recorded the wolf as Canis lupus, which means \"Dog-wolf\". In 1978, a review aimed at reducing the number of recognized Canis species proposed that \"Canis dingo is now generally regarded as a distinctive feral domestic dog. Canis familiaris is used for domestic dogs, although taxonomically it should probably be synonymous with Canis lupus.\" In 1982, the first edition of Mammal Species of the World listed Canis familiaris under Canis lupus with the comment: \"Probably ancestor of and conspecific with the domestic dog, familiaris. Canis familiaris has page priority over Canis lupus, but both were published simultaneously in Linnaeus (1758), and Canis lupus has been universally used for this species\", which avoided classifying the wolf as the family dog. The dog is now listed among the many other Latin-named subspecies of Canis lupus as Canis lupus familiaris.",
         "Feral dogs have what Latin classification?",
         "{'text': ['Canis dingo'], 'answer_start': [507]}"
        ],
        [
         "42",
         "56d99aa4dc89441400fdb5bc",
         "Dog",
         "In 1758, the taxonomist Linnaeus published in Systema Naturae a categorization of species which included the Canis species. Canis is a Latin word meaning dog, and the list included the dog-like carnivores: the domestic dog, wolves, foxes and jackals. The dog was classified as Canis familiaris, which means \"Dog-family\" or the family dog. On the next page he recorded the wolf as Canis lupus, which means \"Dog-wolf\". In 1978, a review aimed at reducing the number of recognized Canis species proposed that \"Canis dingo is now generally regarded as a distinctive feral domestic dog. Canis familiaris is used for domestic dogs, although taxonomically it should probably be synonymous with Canis lupus.\" In 1982, the first edition of Mammal Species of the World listed Canis familiaris under Canis lupus with the comment: \"Probably ancestor of and conspecific with the domestic dog, familiaris. Canis familiaris has page priority over Canis lupus, but both were published simultaneously in Linnaeus (1758), and Canis lupus has been universally used for this species\", which avoided classifying the wolf as the family dog. The dog is now listed among the many other Latin-named subspecies of Canis lupus as Canis lupus familiaris.",
         "What year was Canis familiaris listed under Canis lupus?",
         "{'text': ['1982'], 'answer_start': [704]}"
        ],
        [
         "43",
         "56d4c13d2ccc5a1400d831d2",
         "Dog",
         "In 2003, the ICZN ruled in its Opinion 2027 that if wild animals and their domesticated derivatives are regarded as one species, then the scientific name of that species is the scientific name of the wild animal. In 2005, the third edition of Mammal Species of the World upheld Opinion 2027 with the name Lupus and the note: \"Includes the domestic dog as a subspecies, with the dingo provisionally separate - artificial variants created by domestication and selective breeding\". However, Canis familiaris is sometimes used due to an ongoing nomenclature debate because wild and domestic animals are separately recognizable entities and that the ICZN allowed users a choice as to which name they could use, and a number of internationally recognized researchers prefer to use Canis familiaris.",
         "What year was it decided that if wolves and dogs were one species, then their scientific name is the name of the wild variety?",
         "{'text': ['2003'], 'answer_start': [3]}"
        ],
        [
         "44",
         "56d4c13d2ccc5a1400d831d3",
         "Dog",
         "In 2003, the ICZN ruled in its Opinion 2027 that if wild animals and their domesticated derivatives are regarded as one species, then the scientific name of that species is the scientific name of the wild animal. In 2005, the third edition of Mammal Species of the World upheld Opinion 2027 with the name Lupus and the note: \"Includes the domestic dog as a subspecies, with the dingo provisionally separate - artificial variants created by domestication and selective breeding\". However, Canis familiaris is sometimes used due to an ongoing nomenclature debate because wild and domestic animals are separately recognizable entities and that the ICZN allowed users a choice as to which name they could use, and a number of internationally recognized researchers prefer to use Canis familiaris.",
         "What 2005 publication in its third edition kept to that ruling?",
         "{'text': ['Mammal Species of the World'], 'answer_start': [243]}"
        ],
        [
         "45",
         "56d4c13d2ccc5a1400d831d4",
         "Dog",
         "In 2003, the ICZN ruled in its Opinion 2027 that if wild animals and their domesticated derivatives are regarded as one species, then the scientific name of that species is the scientific name of the wild animal. In 2005, the third edition of Mammal Species of the World upheld Opinion 2027 with the name Lupus and the note: \"Includes the domestic dog as a subspecies, with the dingo provisionally separate - artificial variants created by domestication and selective breeding\". However, Canis familiaris is sometimes used due to an ongoing nomenclature debate because wild and domestic animals are separately recognizable entities and that the ICZN allowed users a choice as to which name they could use, and a number of internationally recognized researchers prefer to use Canis familiaris.",
         "What Latin dog term is still used because wild and domesticated dogs are recognizably different?",
         "{'text': ['Canis familiaris.'], 'answer_start': [775]}"
        ],
        [
         "46",
         "56d4c13d2ccc5a1400d831d5",
         "Dog",
         "In 2003, the ICZN ruled in its Opinion 2027 that if wild animals and their domesticated derivatives are regarded as one species, then the scientific name of that species is the scientific name of the wild animal. In 2005, the third edition of Mammal Species of the World upheld Opinion 2027 with the name Lupus and the note: \"Includes the domestic dog as a subspecies, with the dingo provisionally separate - artificial variants created by domestication and selective breeding\". However, Canis familiaris is sometimes used due to an ongoing nomenclature debate because wild and domestic animals are separately recognizable entities and that the ICZN allowed users a choice as to which name they could use, and a number of internationally recognized researchers prefer to use Canis familiaris.",
         "What official body recognizes both Canis lupus and Canis familiaris?",
         "{'text': ['ICZN'], 'answer_start': [13]}"
        ],
        [
         "47",
         "56d4c13d2ccc5a1400d831d6",
         "Dog",
         "In 2003, the ICZN ruled in its Opinion 2027 that if wild animals and their domesticated derivatives are regarded as one species, then the scientific name of that species is the scientific name of the wild animal. In 2005, the third edition of Mammal Species of the World upheld Opinion 2027 with the name Lupus and the note: \"Includes the domestic dog as a subspecies, with the dingo provisionally separate - artificial variants created by domestication and selective breeding\". However, Canis familiaris is sometimes used due to an ongoing nomenclature debate because wild and domestic animals are separately recognizable entities and that the ICZN allowed users a choice as to which name they could use, and a number of internationally recognized researchers prefer to use Canis familiaris.",
         "Many researchers prefer what term?",
         "{'text': ['Canis familiaris.'], 'answer_start': [775]}"
        ],
        [
         "48",
         "56d99b58dc89441400fdb5c2",
         "Dog",
         "In 2003, the ICZN ruled in its Opinion 2027 that if wild animals and their domesticated derivatives are regarded as one species, then the scientific name of that species is the scientific name of the wild animal. In 2005, the third edition of Mammal Species of the World upheld Opinion 2027 with the name Lupus and the note: \"Includes the domestic dog as a subspecies, with the dingo provisionally separate - artificial variants created by domestication and selective breeding\". However, Canis familiaris is sometimes used due to an ongoing nomenclature debate because wild and domestic animals are separately recognizable entities and that the ICZN allowed users a choice as to which name they could use, and a number of internationally recognized researchers prefer to use Canis familiaris.",
         "Who ruled in 2003 that scientific names for wild animals share the same scientific name as their domestic counterparts?",
         "{'text': ['ICZN'], 'answer_start': [13]}"
        ],
        [
         "49",
         "56d99b58dc89441400fdb5c3",
         "Dog",
         "In 2003, the ICZN ruled in its Opinion 2027 that if wild animals and their domesticated derivatives are regarded as one species, then the scientific name of that species is the scientific name of the wild animal. In 2005, the third edition of Mammal Species of the World upheld Opinion 2027 with the name Lupus and the note: \"Includes the domestic dog as a subspecies, with the dingo provisionally separate - artificial variants created by domestication and selective breeding\". However, Canis familiaris is sometimes used due to an ongoing nomenclature debate because wild and domestic animals are separately recognizable entities and that the ICZN allowed users a choice as to which name they could use, and a number of internationally recognized researchers prefer to use Canis familiaris.",
         "What was this decision called?",
         "{'text': ['Opinion 2027'], 'answer_start': [31]}"
        ]
       ],
       "shape": {
        "columns": 5,
        "rows": 770
       }
      },
      "text/html": [
       "<div>\n",
       "<style scoped>\n",
       "    .dataframe tbody tr th:only-of-type {\n",
       "        vertical-align: middle;\n",
       "    }\n",
       "\n",
       "    .dataframe tbody tr th {\n",
       "        vertical-align: top;\n",
       "    }\n",
       "\n",
       "    .dataframe thead th {\n",
       "        text-align: right;\n",
       "    }\n",
       "</style>\n",
       "<table border=\"1\" class=\"dataframe\">\n",
       "  <thead>\n",
       "    <tr style=\"text-align: right;\">\n",
       "      <th></th>\n",
       "      <th>id</th>\n",
       "      <th>title</th>\n",
       "      <th>context</th>\n",
       "      <th>question</th>\n",
       "      <th>answers</th>\n",
       "    </tr>\n",
       "  </thead>\n",
       "  <tbody>\n",
       "    <tr>\n",
       "      <th>0</th>\n",
       "      <td>56d47d7d2ccc5a1400d8314e</td>\n",
       "      <td>Dog</td>\n",
       "      <td>The domestic dog (Canis lupus familiaris or Ca...</td>\n",
       "      <td>What is the three word Latin name for domestic...</td>\n",
       "      <td>{'text': ['Canis lupus familiaris'], 'answer_s...</td>\n",
       "    </tr>\n",
       "    <tr>\n",
       "      <th>1</th>\n",
       "      <td>56d99788dc89441400fdb580</td>\n",
       "      <td>Dog</td>\n",
       "      <td>The domestic dog (Canis lupus familiaris or Ca...</td>\n",
       "      <td>What is Canis familiaris?</td>\n",
       "      <td>{'text': ['domestic dog'], 'answer_start': [4]}</td>\n",
       "    </tr>\n",
       "    <tr>\n",
       "      <th>2</th>\n",
       "      <td>56d99788dc89441400fdb581</td>\n",
       "      <td>Dog</td>\n",
       "      <td>The domestic dog (Canis lupus familiaris or Ca...</td>\n",
       "      <td>How long has the domestic dog been selectively...</td>\n",
       "      <td>{'text': ['millennia'], 'answer_start': [122]}</td>\n",
       "    </tr>\n",
       "    <tr>\n",
       "      <th>3</th>\n",
       "      <td>56d99788dc89441400fdb582</td>\n",
       "      <td>Dog</td>\n",
       "      <td>The domestic dog (Canis lupus familiaris or Ca...</td>\n",
       "      <td>Along with various behaviors and physical attr...</td>\n",
       "      <td>{'text': ['sensory capabilities'], 'answer_sta...</td>\n",
       "    </tr>\n",
       "    <tr>\n",
       "      <th>4</th>\n",
       "      <td>56d4a7a72ccc5a1400d83168</td>\n",
       "      <td>Dog</td>\n",
       "      <td>Although initially thought to have originated ...</td>\n",
       "      <td>What decade had significant studies of dog gen...</td>\n",
       "      <td>{'text': ['2010s'], 'answer_start': [212]}</td>\n",
       "    </tr>\n",
       "    <tr>\n",
       "      <th>...</th>\n",
       "      <td>...</td>\n",
       "      <td>...</td>\n",
       "      <td>...</td>\n",
       "      <td>...</td>\n",
       "      <td>...</td>\n",
       "    </tr>\n",
       "    <tr>\n",
       "      <th>765</th>\n",
       "      <td>56d9b546dc89441400fdb715_aug</td>\n",
       "      <td>Dog</td>\n",
       "      <td>In developing countries, the majority of dogs ...</td>\n",
       "      <td>Dog cognition has been studied on what kind of...</td>\n",
       "      <td>{'text': ['pet dogs living in human homes.'], ...</td>\n",
       "    </tr>\n",
       "    <tr>\n",
       "      <th>766</th>\n",
       "      <td>56d9c243dc89441400fdb7aa_aug</td>\n",
       "      <td>Dog</td>\n",
       "      <td>Wolves, and their dog descendants, would have ...</td>\n",
       "      <td>What would wolves have gotten from living with...</td>\n",
       "      <td>{'text': ['significant benefits'], 'answer_sta...</td>\n",
       "    </tr>\n",
       "    <tr>\n",
       "      <th>767</th>\n",
       "      <td>56d9c649dc89441400fdb7e3_aug</td>\n",
       "      <td>Dog</td>\n",
       "      <td>Dogs and humans might have been able to coexis...</td>\n",
       "      <td>What has likely led to human success?</td>\n",
       "      <td>{'text': ['the domestication of dogs'], 'answe...</td>\n",
       "    </tr>\n",
       "    <tr>\n",
       "      <th>768</th>\n",
       "      <td>56d9d357dc89441400fdb860_aug</td>\n",
       "      <td>Dog</td>\n",
       "      <td>There is mixed scientific evidence as to wheth...</td>\n",
       "      <td>Studies that people are better off with dogs h...</td>\n",
       "      <td>{'text': ['poorly controlled'], 'answer_start'...</td>\n",
       "    </tr>\n",
       "    <tr>\n",
       "      <th>769</th>\n",
       "      <td>56d9d357dc89441400fdb861_aug</td>\n",
       "      <td>Dog</td>\n",
       "      <td>However, the scientific evidence is mixed as t...</td>\n",
       "      <td>People who have cats or dogs make fewer visits...</td>\n",
       "      <td>{'text': ['to the doctor'], 'answer_start': [3...</td>\n",
       "    </tr>\n",
       "  </tbody>\n",
       "</table>\n",
       "<p>770 rows × 5 columns</p>\n",
       "</div>"
      ],
      "text/plain": [
       "                               id title  \\\n",
       "0        56d47d7d2ccc5a1400d8314e   Dog   \n",
       "1        56d99788dc89441400fdb580   Dog   \n",
       "2        56d99788dc89441400fdb581   Dog   \n",
       "3        56d99788dc89441400fdb582   Dog   \n",
       "4        56d4a7a72ccc5a1400d83168   Dog   \n",
       "..                            ...   ...   \n",
       "765  56d9b546dc89441400fdb715_aug   Dog   \n",
       "766  56d9c243dc89441400fdb7aa_aug   Dog   \n",
       "767  56d9c649dc89441400fdb7e3_aug   Dog   \n",
       "768  56d9d357dc89441400fdb860_aug   Dog   \n",
       "769  56d9d357dc89441400fdb861_aug   Dog   \n",
       "\n",
       "                                               context  \\\n",
       "0    The domestic dog (Canis lupus familiaris or Ca...   \n",
       "1    The domestic dog (Canis lupus familiaris or Ca...   \n",
       "2    The domestic dog (Canis lupus familiaris or Ca...   \n",
       "3    The domestic dog (Canis lupus familiaris or Ca...   \n",
       "4    Although initially thought to have originated ...   \n",
       "..                                                 ...   \n",
       "765  In developing countries, the majority of dogs ...   \n",
       "766  Wolves, and their dog descendants, would have ...   \n",
       "767  Dogs and humans might have been able to coexis...   \n",
       "768  There is mixed scientific evidence as to wheth...   \n",
       "769  However, the scientific evidence is mixed as t...   \n",
       "\n",
       "                                              question  \\\n",
       "0    What is the three word Latin name for domestic...   \n",
       "1                            What is Canis familiaris?   \n",
       "2    How long has the domestic dog been selectively...   \n",
       "3    Along with various behaviors and physical attr...   \n",
       "4    What decade had significant studies of dog gen...   \n",
       "..                                                 ...   \n",
       "765  Dog cognition has been studied on what kind of...   \n",
       "766  What would wolves have gotten from living with...   \n",
       "767              What has likely led to human success?   \n",
       "768  Studies that people are better off with dogs h...   \n",
       "769  People who have cats or dogs make fewer visits...   \n",
       "\n",
       "                                               answers  \n",
       "0    {'text': ['Canis lupus familiaris'], 'answer_s...  \n",
       "1      {'text': ['domestic dog'], 'answer_start': [4]}  \n",
       "2       {'text': ['millennia'], 'answer_start': [122]}  \n",
       "3    {'text': ['sensory capabilities'], 'answer_sta...  \n",
       "4           {'text': ['2010s'], 'answer_start': [212]}  \n",
       "..                                                 ...  \n",
       "765  {'text': ['pet dogs living in human homes.'], ...  \n",
       "766  {'text': ['significant benefits'], 'answer_sta...  \n",
       "767  {'text': ['the domestication of dogs'], 'answe...  \n",
       "768  {'text': ['poorly controlled'], 'answer_start'...  \n",
       "769  {'text': ['to the doctor'], 'answer_start': [3...  \n",
       "\n",
       "[770 rows x 5 columns]"
      ]
     },
     "execution_count": 7,
     "metadata": {},
     "output_type": "execute_result"
    }
   ],
   "source": [
    "df"
   ]
  },
  {
   "cell_type": "markdown",
   "id": "8a0dadf5",
   "metadata": {},
   "source": [
    "# Find the most relevant questions.\n",
    "\n",
    "Manually go and check and find which is the closest question that can be used to test precision and recall."
   ]
  },
  {
   "cell_type": "code",
   "execution_count": 8,
   "id": "046d7335",
   "metadata": {},
   "outputs": [],
   "source": [
    "# for this run I found \n",
    "query = \"do does die eating chocolate\"\n",
    "relevant_indices = set([87, 475])"
   ]
  },
  {
   "cell_type": "markdown",
   "id": "8dc353b0",
   "metadata": {},
   "source": [
    "# SBERT"
   ]
  },
  {
   "cell_type": "code",
   "execution_count": 9,
   "id": "efa0e66d",
   "metadata": {},
   "outputs": [
    {
     "name": "stdout",
     "output_type": "stream",
     "text": [
      "Index 87\n",
      "Title: Dog\n",
      "Question: What is the chemical in chocolate that is poisonous to dogs?\n",
      "Similarity: 0.3498760759830475\n",
      "--------------------------------------------------\n",
      "Index 475\n",
      "Title: Dog\n",
      "Question: What is the chemical in chocolate that is poisonous to dogs?\n",
      "Similarity: 0.3498760759830475\n",
      "--------------------------------------------------\n",
      "Index 478\n",
      "Title: Dog\n",
      "Question: What form of chocolate is especially toxic to dogs?\n",
      "Similarity: 0.3422899544239044\n",
      "--------------------------------------------------\n",
      "Index 90\n",
      "Title: Dog\n",
      "Question: What form of chocolate is especially toxic to dogs?\n",
      "Similarity: 0.3422899544239044\n",
      "--------------------------------------------------\n",
      "Index 679\n",
      "Title: Dog\n",
      "Question: When is the Korean dog recipe usually eaten?\n",
      "Similarity: 0.3003668785095215\n",
      "--------------------------------------------------\n",
      "Index 297\n",
      "Title: Dog\n",
      "Question: When is the Korean dog recipe usually eaten?\n",
      "Similarity: 0.3003668785095215\n",
      "--------------------------------------------------\n",
      "Index 84\n",
      "Title: Dog\n",
      "Question: Some foods that are okay for people to eat are what to dogs?\n",
      "Similarity: 0.2937462031841278\n",
      "--------------------------------------------------\n",
      "Index 472\n",
      "Title: Dog\n",
      "Question: Some foods that are okay for people to eat are what to dogs?\n",
      "Similarity: 0.2937461733818054\n",
      "--------------------------------------------------\n",
      "Index 185\n",
      "Title: Dog\n",
      "Question: Dogs do not require a very high level of what when eating?\n",
      "Similarity: 0.2880014181137085\n",
      "--------------------------------------------------\n",
      "Index 568\n",
      "Title: Dog\n",
      "Question: Dogs do not require a very high level of what when eating?\n",
      "Similarity: 0.2880014181137085\n",
      "--------------------------------------------------\n"
     ]
    }
   ],
   "source": [
    "\n",
    "\n",
    "# New query\n",
    "new_query = \"do does die while eating choclate\"\n",
    "new_query_embedding = model.encode(new_query)\n",
    "\n",
    "# Cosine similarity\n",
    "cosine_scores = util.cos_sim(new_query_embedding, question_embeddings_sbert)[0]\n",
    "top5_indices_sbert = cosine_scores.argsort(descending=True)[:10]\n",
    "\n",
    "for i in top5_indices_sbert:\n",
    "    print(f\"Index {i}\")\n",
    "    print(f\"Title: {titles[i]}\")\n",
    "    print(f\"Question: {questions[i]}\")\n",
    "    print(f\"Similarity: {cosine_scores[i].item()}\")\n",
    "    print(\"-\" * 50)\n"
   ]
  },
  {
   "cell_type": "markdown",
   "id": "1aa0500f",
   "metadata": {},
   "source": [
    "# TF-IDF"
   ]
  },
  {
   "cell_type": "code",
   "execution_count": 10,
   "id": "e601c245",
   "metadata": {},
   "outputs": [],
   "source": [
    "question_embeddings_tfidf = tfidf_vectorizer.fit_transform(questions).toarray()\n",
    "svd = TruncatedSVD(n_components=2)\n",
    "reduced_embeddings_tfidf = svd.fit_transform(question_embeddings_tfidf)"
   ]
  },
  {
   "cell_type": "code",
   "execution_count": 11,
   "id": "804a88a6",
   "metadata": {},
   "outputs": [
    {
     "name": "stdout",
     "output_type": "stream",
     "text": [
      "Title: Dog\n",
      "Question: When did Bluey die?\n",
      "Similarity: 0.27625703834659054\n",
      "--------------------------------------------------\n",
      "Title: Dog\n",
      "Question: When did Bluey die?\n",
      "Similarity: 0.27625703834659054\n",
      "--------------------------------------------------\n",
      "Title: Dog\n",
      "Question: What is the chemical in chocolate that is poisonous to dogs?\n",
      "Similarity: 0.24812316443779114\n",
      "--------------------------------------------------\n",
      "Title: Dog\n",
      "Question: What is the chemical in chocolate that is poisonous to dogs?\n",
      "Similarity: 0.24812316443779114\n",
      "--------------------------------------------------\n",
      "Title: Dog\n",
      "Question: What form of chocolate is especially toxic to dogs?\n",
      "Similarity: 0.2439169087802441\n",
      "--------------------------------------------------\n"
     ]
    }
   ],
   "source": [
    "\n",
    "# New query\n",
    "new_query = [query]\n",
    "new_query_tfidf = tfidf_vectorizer.transform(new_query)\n",
    "\n",
    "# Cosine similarity without SVD\n",
    "similarities = cosine_similarity(new_query_tfidf, question_embeddings_tfidf)[0]\n",
    "top5_indices_tfidf = similarities.argsort()[-5:][::-1]\n",
    "\n",
    "for i in top5_indices_tfidf:\n",
    "    print(f\"Title: {titles[i]}\")\n",
    "    print(f\"Question: {questions[i]}\")\n",
    "    print(f\"Similarity: {similarities[i]}\")\n",
    "    print(\"-\" * 50)\n"
   ]
  },
  {
   "cell_type": "markdown",
   "id": "a33aa420",
   "metadata": {},
   "source": [
    "# BM25"
   ]
  },
  {
   "cell_type": "code",
   "execution_count": 12,
   "id": "08d9052c",
   "metadata": {},
   "outputs": [
    {
     "name": "stdout",
     "output_type": "stream",
     "text": [
      "Title: Dog\n",
      "Question: Dogs do not require a very high level of what when eating?\n",
      "Score: 6.7815415195816175\n",
      "--------------------------------------------------\n",
      "Title: Dog\n",
      "Question: Dogs do not require a very high level of what when eating?\n",
      "Score: 6.7815415195816175\n",
      "--------------------------------------------------\n",
      "Title: Dog\n",
      "Question: When did Bluey die?\n",
      "Score: 6.520119656594554\n",
      "--------------------------------------------------\n",
      "Title: Dog\n",
      "Question: When did Bluey die?\n",
      "Score: 6.520119656594554\n",
      "--------------------------------------------------\n",
      "Title: Dog\n",
      "Question: What form of chocolate is especially toxic to dogs?\n",
      "Score: 5.631209559413964\n",
      "--------------------------------------------------\n"
     ]
    }
   ],
   "source": [
    "from rank_bm25 import BM25Okapi\n",
    "from nltk.tokenize import word_tokenize\n",
    "\n",
    "# Tokenize all questions\n",
    "tokenized_corpus = [word_tokenize(q.lower()) for q in questions]\n",
    "\n",
    "# Build BM25 index\n",
    "bm25 = BM25Okapi(tokenized_corpus)\n",
    "\n",
    "# New query\n",
    "new_query = \"do does die eating chocolate\"\n",
    "tokenized_query = word_tokenize(new_query.lower())\n",
    "\n",
    "# Get top 5 results\n",
    "scores = bm25.get_scores(tokenized_query)\n",
    "top5_indices_bm25 = sorted(range(len(scores)), key=lambda i: scores[i], reverse=True)[:5]\n",
    "\n",
    "# Display\n",
    "for i in top5_indices_bm25:\n",
    "    print(f\"Title: {titles[i]}\")\n",
    "    print(f\"Question: {questions[i]}\")\n",
    "    print(f\"Score: {scores[i]}\")\n",
    "    print(\"-\" * 50)\n"
   ]
  },
  {
   "cell_type": "code",
   "execution_count": null,
   "id": "26f5dd6c",
   "metadata": {},
   "outputs": [],
   "source": []
  },
  {
   "cell_type": "markdown",
   "id": "3157eca6",
   "metadata": {},
   "source": [
    "# Compare Results"
   ]
  },
  {
   "cell_type": "markdown",
   "id": "14af6677",
   "metadata": {},
   "source": [
    "**IMPORTANT**: Since i am using precision@5 but i only have 2 relvant question. The maximum possible precision@5 is 0.4, which is just $\\frac{2}{5}$. So if the precision is 0.4, it means that the model is perfect. If the precision is 0.2, it means that the model is not good at all.\n",
    "\n",
    "TF-IDF is impossible to run so i used a subset of data which only includes questions for *dogs*. Since, we already know BM25 and TF-IDF does not perform well, it might not be able to pick anything. The output here is slightly different from the one in the presentation becuase i used a different randomb subset but the results are similar.\n",
    "\n",
    "> This can be improved in the future by using more number of relevant questions. But for now, this is the best we can do."
   ]
  },
  {
   "cell_type": "code",
   "execution_count": null,
   "id": "fdf67fab",
   "metadata": {},
   "outputs": [
    {
     "name": "stdout",
     "output_type": "stream",
     "text": [
      "SBERT Top-5 Indices: [87, 475, 478, 90, 679]\n",
      "Relevant Indices: {475, 87}\n",
      "Intersection: {475, 87}\n",
      "\n",
      "TF-IDF:\n",
      "  Precision@k: 0.4\n",
      "  Recall@k:    1.0\n",
      "  MAP:         0.41666666666666663\n",
      "  nDCG@k:      0.5706417189553201\n",
      "----------------------------------------\n",
      "BM25:\n",
      "  Precision@k: 0.0\n",
      "  Recall@k:    0.0\n",
      "  MAP:         0.0\n",
      "  nDCG@k:      0\n",
      "----------------------------------------\n",
      "SBERT:\n",
      "  Precision@k: 0.4\n",
      "  Recall@k:    1.0\n",
      "  MAP:         1.0\n",
      "  nDCG@k:      1.0\n",
      "----------------------------------------\n"
     ]
    }
   ],
   "source": [
    "\n",
    "def precision_at_k(top_k, relevant):\n",
    "    return len(set(top_k) & relevant) / len(top_k)\n",
    "\n",
    "def recall_at_k(top_k, relevant):\n",
    "    return len(set(top_k) & relevant) / len(relevant)\n",
    "\n",
    "def average_precision(top_k, relevant):\n",
    "    score = 0\n",
    "    hits = 0\n",
    "    for i, doc_id in enumerate(top_k, 1):\n",
    "        if doc_id in relevant:\n",
    "            hits += 1\n",
    "            score += hits / i\n",
    "    return score / len(relevant) if relevant else 0\n",
    "\n",
    "def dcg(relevance_list):\n",
    "    return sum((1 / math.log2(i + 2)) for i, rel in enumerate(relevance_list) if rel)\n",
    "\n",
    "def ndcg_at_k(top_k, relevant):\n",
    "    relevance_list = [1 if doc in relevant else 0 for doc in top_k]\n",
    "    ideal_list = sorted(relevance_list, reverse=True)\n",
    "    return dcg(relevance_list) / dcg(ideal_list) if dcg(ideal_list) > 0 else 0\n",
    "\n",
    "def evaluate_all(tfidf_top, bm25_top, sbert_top, relevant, k=5):\n",
    "    # Ensure integer indices (especially for SBERT if tensor or numpy)\n",
    "    tfidf_top = [int(i) for i in tfidf_top[:k]]\n",
    "    bm25_top = [int(i) for i in bm25_top[:k]]\n",
    "    sbert_top = [int(i) for i in sbert_top[:k]]\n",
    "\n",
    "    methods = {\n",
    "        \"TF-IDF\": tfidf_top,\n",
    "        \"BM25\": bm25_top,\n",
    "        \"SBERT\": sbert_top,\n",
    "    }\n",
    "\n",
    "    print(\"SBERT Top-5 Indices:\", sbert_top)\n",
    "    print(\"Relevant Indices:\", relevant)\n",
    "    print(\"Intersection:\", set(sbert_top) & relevant)\n",
    "    print()\n",
    "\n",
    "    for method, top_k in methods.items():\n",
    "        print(f\"{method}:\")\n",
    "        print(\"  Precision@k:\", precision_at_k(top_k, relevant))\n",
    "        print(\"  Recall@k:   \", recall_at_k(top_k, relevant))\n",
    "        print(\"  MAP:        \", average_precision(top_k, relevant))\n",
    "        print(\"  nDCG@k:     \", ndcg_at_k(top_k, relevant))\n",
    "        print(\"-\" * 40)\n",
    "\n",
    "\n",
    "evaluate_all(top5_indices_tfidf, top5_indices_bm25, top5_indices_sbert, relevant_indices, k=5)\n"
   ]
  },
  {
   "cell_type": "code",
   "execution_count": null,
   "id": "cedb00f9",
   "metadata": {},
   "outputs": [],
   "source": []
  }
 ],
 "metadata": {
  "kernelspec": {
   "display_name": "ML_py",
   "language": "python",
   "name": "python3"
  },
  "language_info": {
   "codemirror_mode": {
    "name": "ipython",
    "version": 3
   },
   "file_extension": ".py",
   "mimetype": "text/x-python",
   "name": "python",
   "nbconvert_exporter": "python",
   "pygments_lexer": "ipython3",
   "version": "3.12.8"
  }
 },
 "nbformat": 4,
 "nbformat_minor": 5
}
